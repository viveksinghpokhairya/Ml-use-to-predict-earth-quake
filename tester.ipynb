{
 "cells": [
  {
   "cell_type": "code",
   "execution_count": 115,
   "id": "c6255b5d-738f-4fa2-9345-f83ed1f308b8",
   "metadata": {},
   "outputs": [],
   "source": [
    "import pandas as pd\n",
    "import numpy as np\n",
    "import plotly.express as px\n",
    "import warnings\n",
    "warnings.filterwarnings('ignore')\n",
    "# import matplotlib.pyplot as plt\n",
    "# import seaborn as sns\n",
    "from sklearn.model_selection import train_test_split\n",
    "from sklearn.ensemble import RandomForestRegressor\n",
    "from sklearn.metrics import mean_squared_error, r2_score"
   ]
  },
  {
   "cell_type": "code",
   "execution_count": 116,
   "id": "d1c87668-5597-4527-83bc-21ba5bf9d68b",
   "metadata": {},
   "outputs": [
    {
     "data": {
      "text/html": [
       "<div>\n",
       "<style scoped>\n",
       "    .dataframe tbody tr th:only-of-type {\n",
       "        vertical-align: middle;\n",
       "    }\n",
       "\n",
       "    .dataframe tbody tr th {\n",
       "        vertical-align: top;\n",
       "    }\n",
       "\n",
       "    .dataframe thead th {\n",
       "        text-align: right;\n",
       "    }\n",
       "</style>\n",
       "<table border=\"1\" class=\"dataframe\">\n",
       "  <thead>\n",
       "    <tr style=\"text-align: right;\">\n",
       "      <th></th>\n",
       "      <th>time</th>\n",
       "      <th>latitude</th>\n",
       "      <th>longitude</th>\n",
       "      <th>depth</th>\n",
       "      <th>mag</th>\n",
       "      <th>magType</th>\n",
       "      <th>nst</th>\n",
       "      <th>gap</th>\n",
       "      <th>dmin</th>\n",
       "      <th>rms</th>\n",
       "      <th>...</th>\n",
       "      <th>updated</th>\n",
       "      <th>place</th>\n",
       "      <th>type</th>\n",
       "      <th>horizontalError</th>\n",
       "      <th>depthError</th>\n",
       "      <th>magError</th>\n",
       "      <th>magNst</th>\n",
       "      <th>status</th>\n",
       "      <th>locationSource</th>\n",
       "      <th>magSource</th>\n",
       "    </tr>\n",
       "  </thead>\n",
       "  <tbody>\n",
       "    <tr>\n",
       "      <th>0</th>\n",
       "      <td>2018-11-27T14:34:20.900Z</td>\n",
       "      <td>48.3780</td>\n",
       "      <td>154.9620</td>\n",
       "      <td>35.00</td>\n",
       "      <td>4.9</td>\n",
       "      <td>mb</td>\n",
       "      <td>NaN</td>\n",
       "      <td>92.0</td>\n",
       "      <td>5.044</td>\n",
       "      <td>0.63</td>\n",
       "      <td>...</td>\n",
       "      <td>2018-11-27T16:06:33.040Z</td>\n",
       "      <td>269km SSW of Severo-Kuril'sk, Russia</td>\n",
       "      <td>earthquake</td>\n",
       "      <td>7.6</td>\n",
       "      <td>1.7</td>\n",
       "      <td>0.036</td>\n",
       "      <td>248.0</td>\n",
       "      <td>reviewed</td>\n",
       "      <td>us</td>\n",
       "      <td>us</td>\n",
       "    </tr>\n",
       "    <tr>\n",
       "      <th>1</th>\n",
       "      <td>2018-11-26T23:33:50.630Z</td>\n",
       "      <td>36.0733</td>\n",
       "      <td>139.7830</td>\n",
       "      <td>48.82</td>\n",
       "      <td>4.8</td>\n",
       "      <td>mww</td>\n",
       "      <td>NaN</td>\n",
       "      <td>113.0</td>\n",
       "      <td>1.359</td>\n",
       "      <td>1.13</td>\n",
       "      <td>...</td>\n",
       "      <td>2018-11-27T16:44:22.223Z</td>\n",
       "      <td>3km SSW of Sakai, Japan</td>\n",
       "      <td>earthquake</td>\n",
       "      <td>6.0</td>\n",
       "      <td>6.1</td>\n",
       "      <td>0.071</td>\n",
       "      <td>19.0</td>\n",
       "      <td>reviewed</td>\n",
       "      <td>us</td>\n",
       "      <td>us</td>\n",
       "    </tr>\n",
       "    <tr>\n",
       "      <th>2</th>\n",
       "      <td>2018-11-26T13:04:02.250Z</td>\n",
       "      <td>38.8576</td>\n",
       "      <td>141.8384</td>\n",
       "      <td>50.56</td>\n",
       "      <td>4.5</td>\n",
       "      <td>mb</td>\n",
       "      <td>NaN</td>\n",
       "      <td>145.0</td>\n",
       "      <td>1.286</td>\n",
       "      <td>0.84</td>\n",
       "      <td>...</td>\n",
       "      <td>2018-11-26T23:52:21.074Z</td>\n",
       "      <td>26km SSE of Ofunato, Japan</td>\n",
       "      <td>earthquake</td>\n",
       "      <td>8.4</td>\n",
       "      <td>9.5</td>\n",
       "      <td>0.156</td>\n",
       "      <td>12.0</td>\n",
       "      <td>reviewed</td>\n",
       "      <td>us</td>\n",
       "      <td>us</td>\n",
       "    </tr>\n",
       "    <tr>\n",
       "      <th>3</th>\n",
       "      <td>2018-11-26T05:20:16.440Z</td>\n",
       "      <td>50.0727</td>\n",
       "      <td>156.1420</td>\n",
       "      <td>66.34</td>\n",
       "      <td>4.6</td>\n",
       "      <td>mb</td>\n",
       "      <td>NaN</td>\n",
       "      <td>128.0</td>\n",
       "      <td>3.191</td>\n",
       "      <td>0.62</td>\n",
       "      <td>...</td>\n",
       "      <td>2018-11-26T08:13:58.040Z</td>\n",
       "      <td>67km S of Severo-Kuril'sk, Russia</td>\n",
       "      <td>earthquake</td>\n",
       "      <td>9.7</td>\n",
       "      <td>7.8</td>\n",
       "      <td>0.045</td>\n",
       "      <td>151.0</td>\n",
       "      <td>reviewed</td>\n",
       "      <td>us</td>\n",
       "      <td>us</td>\n",
       "    </tr>\n",
       "    <tr>\n",
       "      <th>4</th>\n",
       "      <td>2018-11-25T09:19:05.010Z</td>\n",
       "      <td>33.9500</td>\n",
       "      <td>134.4942</td>\n",
       "      <td>38.19</td>\n",
       "      <td>4.6</td>\n",
       "      <td>mb</td>\n",
       "      <td>NaN</td>\n",
       "      <td>104.0</td>\n",
       "      <td>0.558</td>\n",
       "      <td>0.61</td>\n",
       "      <td>...</td>\n",
       "      <td>2018-11-25T23:24:52.615Z</td>\n",
       "      <td>9km SW of Komatsushima, Japan</td>\n",
       "      <td>earthquake</td>\n",
       "      <td>3.4</td>\n",
       "      <td>10.1</td>\n",
       "      <td>0.132</td>\n",
       "      <td>17.0</td>\n",
       "      <td>reviewed</td>\n",
       "      <td>us</td>\n",
       "      <td>us</td>\n",
       "    </tr>\n",
       "  </tbody>\n",
       "</table>\n",
       "<p>5 rows × 22 columns</p>\n",
       "</div>"
      ],
      "text/plain": [
       "                       time  latitude  longitude  depth  mag magType  nst  \\\n",
       "0  2018-11-27T14:34:20.900Z   48.3780   154.9620  35.00  4.9      mb  NaN   \n",
       "1  2018-11-26T23:33:50.630Z   36.0733   139.7830  48.82  4.8     mww  NaN   \n",
       "2  2018-11-26T13:04:02.250Z   38.8576   141.8384  50.56  4.5      mb  NaN   \n",
       "3  2018-11-26T05:20:16.440Z   50.0727   156.1420  66.34  4.6      mb  NaN   \n",
       "4  2018-11-25T09:19:05.010Z   33.9500   134.4942  38.19  4.6      mb  NaN   \n",
       "\n",
       "     gap   dmin   rms  ...                   updated  \\\n",
       "0   92.0  5.044  0.63  ...  2018-11-27T16:06:33.040Z   \n",
       "1  113.0  1.359  1.13  ...  2018-11-27T16:44:22.223Z   \n",
       "2  145.0  1.286  0.84  ...  2018-11-26T23:52:21.074Z   \n",
       "3  128.0  3.191  0.62  ...  2018-11-26T08:13:58.040Z   \n",
       "4  104.0  0.558  0.61  ...  2018-11-25T23:24:52.615Z   \n",
       "\n",
       "                                  place        type horizontalError  \\\n",
       "0  269km SSW of Severo-Kuril'sk, Russia  earthquake             7.6   \n",
       "1               3km SSW of Sakai, Japan  earthquake             6.0   \n",
       "2            26km SSE of Ofunato, Japan  earthquake             8.4   \n",
       "3     67km S of Severo-Kuril'sk, Russia  earthquake             9.7   \n",
       "4         9km SW of Komatsushima, Japan  earthquake             3.4   \n",
       "\n",
       "  depthError  magError  magNst    status  locationSource magSource  \n",
       "0        1.7     0.036   248.0  reviewed              us        us  \n",
       "1        6.1     0.071    19.0  reviewed              us        us  \n",
       "2        9.5     0.156    12.0  reviewed              us        us  \n",
       "3        7.8     0.045   151.0  reviewed              us        us  \n",
       "4       10.1     0.132    17.0  reviewed              us        us  \n",
       "\n",
       "[5 rows x 22 columns]"
      ]
     },
     "execution_count": 116,
     "metadata": {},
     "output_type": "execute_result"
    }
   ],
   "source": [
    "df = pd.read_csv('Japanquakes.csv')\n",
    "df.describe()\n",
    "df.head()"
   ]
  },
  {
   "cell_type": "code",
   "execution_count": 117,
   "id": "52686f0c-ec89-44e3-a5d4-e910000e2aa9",
   "metadata": {},
   "outputs": [
    {
     "name": "stdout",
     "output_type": "stream",
     "text": [
      "Missing values per column:\n",
      "time                   0\n",
      "latitude               0\n",
      "longitude              0\n",
      "depth                  0\n",
      "mag                    0\n",
      "magType                0\n",
      "nst                 3609\n",
      "gap                  782\n",
      "dmin               10485\n",
      "rms                   78\n",
      "net                    0\n",
      "id                     0\n",
      "updated                0\n",
      "place                  0\n",
      "type                   0\n",
      "horizontalError    11292\n",
      "depthError          5052\n",
      "magError           10661\n",
      "magNst              3044\n",
      "status                 0\n",
      "locationSource         0\n",
      "magSource              0\n",
      "dtype: int64\n"
     ]
    }
   ],
   "source": [
    "# Check for missing values\n",
    "missing_values = df.isna().sum()\n",
    "\n",
    "# Display missing values\n",
    "print(f\"Missing values per column:\\n{missing_values}\")\n"
   ]
  },
  {
   "cell_type": "code",
   "execution_count": 118,
   "id": "cc2e573f-76e5-44cc-a058-21d25214a556",
   "metadata": {},
   "outputs": [
    {
     "name": "stdout",
     "output_type": "stream",
     "text": [
      "['earthquake' 'nuclear explosion']\n"
     ]
    }
   ],
   "source": [
    "unique_types = df['type'].unique()\n",
    "print(unique_types)\n",
    "# Droping rows where 'type' is 'nuclear explosion'\n",
    "df.drop(df[df['type'] == 'nuclear explosion'].index, inplace=True)"
   ]
  },
  {
   "cell_type": "code",
   "execution_count": 119,
   "id": "9dd09f9c-fd60-4fc2-bd88-7c22ee30fc84",
   "metadata": {},
   "outputs": [],
   "source": [
    "# Plot histograms for errors in magnitude, horizontal and depth\n",
    "# plt.hist(df['magError'])\n",
    "# print(\"magError\")\n",
    "# plt.show()\n",
    "\n",
    "# plt.hist(df['horizontalError'])\n",
    "# print(\"Horizontal Error\")\n",
    "# plt.show()\n",
    "\n",
    "# plt.hist(df['depthError'])\n",
    "# print(\"Depth Error\")\n",
    "# plt.show()\n"
   ]
  },
  {
   "cell_type": "code",
   "execution_count": 120,
   "id": "469c7064-85d4-4193-a8ef-bc977d1325c1",
   "metadata": {},
   "outputs": [
    {
     "name": "stdout",
     "output_type": "stream",
     "text": [
      "0    154.96\n",
      "1    139.78\n",
      "2    141.84\n",
      "3    156.14\n",
      "4    134.49\n",
      "Name: longitude, dtype: float64\n"
     ]
    }
   ],
   "source": [
    "df['latitude'] = df['latitude'].round(2)\n",
    "df['longitude'] = df['longitude'].round(2)\n",
    "print(df['longitude'].head())"
   ]
  },
  {
   "cell_type": "code",
   "execution_count": 121,
   "id": "a380a341-2ad7-4ffe-822a-760f6831ce7b",
   "metadata": {},
   "outputs": [
    {
     "data": {
      "application/vnd.plotly.v1+json": {
       "config": {
        "plotlyServerURL": "https://plot.ly"
       },
       "data": [
        {
         "customdata": [
          [
           4.7
          ],
          [
           4.9
          ],
          [
           5.3
          ],
          [
           6
          ],
          [
           5.3
          ],
          [
           4.7
          ],
          [
           4.5
          ],
          [
           5.3
          ],
          [
           5.1
          ],
          [
           5.1
          ],
          [
           4.7
          ],
          [
           5.2
          ],
          [
           5.4
          ],
          [
           4.5
          ],
          [
           4.7
          ],
          [
           4.6
          ],
          [
           4.5
          ],
          [
           4.8
          ],
          [
           4.5
          ],
          [
           4.5
          ],
          [
           4.5
          ],
          [
           5.4
          ],
          [
           4.8
          ],
          [
           4.7
          ],
          [
           4.6
          ],
          [
           4.5
          ],
          [
           4.9
          ],
          [
           5.5
          ],
          [
           5.3
          ],
          [
           4.5
          ],
          [
           5.1
          ],
          [
           5.8
          ],
          [
           4.5
          ],
          [
           5.1
          ],
          [
           4.7
          ],
          [
           4.7
          ],
          [
           4.8
          ],
          [
           4.5
          ],
          [
           4.8
          ],
          [
           4.7
          ],
          [
           4.9
          ],
          [
           4.6
          ],
          [
           4.9
          ],
          [
           4.7
          ],
          [
           5
          ],
          [
           5
          ],
          [
           4.5
          ],
          [
           5.6
          ],
          [
           5.6
          ],
          [
           4.5
          ],
          [
           4.6
          ],
          [
           4.6
          ],
          [
           5.2
          ],
          [
           4.7
          ],
          [
           4.9
          ],
          [
           6.1
          ],
          [
           4.6
          ],
          [
           4.5
          ],
          [
           4.7
          ],
          [
           4.9
          ],
          [
           4.6
          ],
          [
           4.8
          ],
          [
           4.6
          ],
          [
           5
          ],
          [
           4.7
          ],
          [
           4.5
          ],
          [
           4.5
          ],
          [
           4.5
          ],
          [
           4.8
          ],
          [
           4.9
          ],
          [
           4.8
          ],
          [
           4.6
          ],
          [
           4.7
          ],
          [
           5
          ],
          [
           4.6
          ],
          [
           4.9
          ],
          [
           4.9
          ],
          [
           5
          ],
          [
           4.8
          ],
          [
           4.5
          ],
          [
           4.7
          ],
          [
           5.5
          ],
          [
           4.6
          ],
          [
           4.5
          ],
          [
           4.7
          ],
          [
           4.8
          ],
          [
           4.6
          ],
          [
           4.6
          ],
          [
           4.5
          ],
          [
           5
          ],
          [
           4.7
          ],
          [
           4.5
          ],
          [
           4.9
          ],
          [
           4.8
          ],
          [
           4.6
          ],
          [
           4.7
          ],
          [
           4.8
          ],
          [
           4.7
          ],
          [
           4.5
          ],
          [
           4.6
          ],
          [
           4.6
          ],
          [
           6
          ],
          [
           4.6
          ],
          [
           4.7
          ],
          [
           4.8
          ],
          [
           4.7
          ],
          [
           4.7
          ],
          [
           4.6
          ],
          [
           4.7
          ],
          [
           5
          ],
          [
           4.6
          ],
          [
           4.7
          ],
          [
           4.8
          ],
          [
           4.6
          ],
          [
           4.5
          ],
          [
           4.6
          ],
          [
           4.6
          ],
          [
           5.1
          ],
          [
           4.7
          ],
          [
           5
          ],
          [
           4.6
          ],
          [
           4.6
          ],
          [
           4.5
          ],
          [
           4.8
          ],
          [
           4.6
          ],
          [
           4.5
          ],
          [
           4.8
          ],
          [
           4.9
          ],
          [
           4.7
          ],
          [
           4.6
          ],
          [
           4.6
          ],
          [
           4.6
          ],
          [
           4.5
          ],
          [
           4.8
          ],
          [
           4.8
          ],
          [
           4.7
          ],
          [
           4.5
          ],
          [
           4.9
          ],
          [
           5
          ],
          [
           4.8
          ],
          [
           4.6
          ],
          [
           5
          ],
          [
           4.8
          ],
          [
           4.5
          ],
          [
           4.6
          ],
          [
           4.5
          ],
          [
           5.4
          ],
          [
           4.5
          ],
          [
           5.1
          ],
          [
           4.6
          ],
          [
           4.9
          ],
          [
           4.9
          ],
          [
           4.7
          ],
          [
           4.9
          ],
          [
           4.7
          ],
          [
           4.9
          ],
          [
           4.7
          ],
          [
           4.7
          ],
          [
           4.6
          ],
          [
           4.5
          ],
          [
           4.5
          ],
          [
           4.5
          ],
          [
           5.7
          ],
          [
           4.8
          ],
          [
           4.8
          ],
          [
           5.4
          ],
          [
           4.5
          ],
          [
           4.5
          ],
          [
           4.8
          ],
          [
           4.5
          ],
          [
           4.5
          ],
          [
           4.6
          ],
          [
           4.8
          ],
          [
           4.7
          ],
          [
           4.8
          ],
          [
           4.5
          ],
          [
           4.5
          ],
          [
           4.5
          ],
          [
           4.6
          ],
          [
           4.6
          ],
          [
           5.6
          ],
          [
           4.8
          ],
          [
           5.6
          ],
          [
           4.9
          ],
          [
           4.8
          ],
          [
           4.6
          ],
          [
           4.8
          ],
          [
           5.9
          ],
          [
           4.7
          ],
          [
           4.8
          ],
          [
           4.9
          ],
          [
           5
          ],
          [
           4.7
          ],
          [
           4.7
          ],
          [
           4.6
          ],
          [
           4.7
          ],
          [
           4.5
          ],
          [
           4.6
          ],
          [
           4.9
          ],
          [
           4.8
          ],
          [
           4.6
          ],
          [
           4.7
          ],
          [
           4.7
          ],
          [
           4.9
          ],
          [
           5
          ],
          [
           5.3
          ],
          [
           4.7
          ],
          [
           5.1
          ],
          [
           4.5
          ],
          [
           4.6
          ],
          [
           4.6
          ],
          [
           4.8
          ],
          [
           4.7
          ],
          [
           4.9
          ],
          [
           5
          ],
          [
           5.5
          ],
          [
           4.8
          ],
          [
           6.1
          ],
          [
           5.6
          ],
          [
           4.6
          ],
          [
           4.8
          ],
          [
           4.5
          ],
          [
           4.8
          ],
          [
           4.9
          ],
          [
           4.9
          ],
          [
           5.2
          ],
          [
           4.5
          ],
          [
           6
          ],
          [
           7.3
          ],
          [
           4.6
          ],
          [
           5.4
          ],
          [
           4.7
          ],
          [
           4.7
          ],
          [
           4.8
          ],
          [
           4.8
          ],
          [
           4.7
          ],
          [
           5.3
          ],
          [
           4.8
          ],
          [
           5.1
          ],
          [
           5
          ],
          [
           4.7
          ],
          [
           5.1
          ],
          [
           5.5
          ],
          [
           4.5
          ],
          [
           5.5
          ],
          [
           4.5
          ],
          [
           4.5
          ],
          [
           4.6
          ],
          [
           4.6
          ],
          [
           4.5
          ],
          [
           4.8
          ],
          [
           4.8
          ],
          [
           4.5
          ],
          [
           4.6
          ],
          [
           4.5
          ],
          [
           4.6
          ],
          [
           4.5
          ],
          [
           4.9
          ],
          [
           4.8
          ],
          [
           4.5
          ],
          [
           4.9
          ],
          [
           4.6
          ],
          [
           4.6
          ],
          [
           5.9
          ],
          [
           4.7
          ],
          [
           4.8
          ],
          [
           5.3
          ],
          [
           5.1
          ],
          [
           4.9
          ],
          [
           5.1
          ],
          [
           4.7
          ],
          [
           5.3
          ],
          [
           4.5
          ],
          [
           4.9
          ],
          [
           4.5
          ],
          [
           4.6
          ],
          [
           4.6
          ],
          [
           4.5
          ],
          [
           4.6
          ],
          [
           5.8
          ],
          [
           4.9
          ],
          [
           4.9
          ],
          [
           6
          ],
          [
           4.5
          ],
          [
           5
          ],
          [
           6.2
          ],
          [
           4.6
          ],
          [
           4.6
          ],
          [
           4.9
          ],
          [
           4.8
          ],
          [
           4.6
          ],
          [
           4.6
          ],
          [
           4.6
          ],
          [
           5
          ],
          [
           4.8
          ],
          [
           4.6
          ],
          [
           4.6
          ],
          [
           5.2
          ],
          [
           4.7
          ],
          [
           4.5
          ],
          [
           6
          ],
          [
           4.6
          ],
          [
           4.9
          ],
          [
           4.8
          ],
          [
           4.9
          ],
          [
           4.5
          ],
          [
           4.5
          ],
          [
           4.7
          ],
          [
           4.5
          ],
          [
           4.7
          ],
          [
           4.5
          ],
          [
           4.5
          ],
          [
           4.8
          ],
          [
           4.7
          ],
          [
           4.6
          ],
          [
           4.9
          ],
          [
           4.7
          ],
          [
           4.5
          ],
          [
           4.5
          ],
          [
           5
          ],
          [
           4.8
          ],
          [
           4.7
          ],
          [
           4.7
          ],
          [
           4.7
          ],
          [
           4.5
          ],
          [
           4.7
          ],
          [
           4.7
          ],
          [
           4.6
          ],
          [
           4.8
          ],
          [
           5.3
          ],
          [
           4.7
          ],
          [
           4.6
          ],
          [
           5.3
          ],
          [
           5.6
          ],
          [
           4.9
          ],
          [
           5.5
          ],
          [
           5.2
          ],
          [
           4.7
          ],
          [
           4.8
          ],
          [
           4.8
          ],
          [
           4.7
          ],
          [
           4.7
          ],
          [
           4.7
          ],
          [
           5
          ],
          [
           4.6
          ],
          [
           5.4
          ],
          [
           5.1
          ],
          [
           4.7
          ],
          [
           4.6
          ],
          [
           5.5
          ],
          [
           4.6
          ],
          [
           5.2
          ],
          [
           5
          ],
          [
           4.6
          ],
          [
           5.9
          ],
          [
           4.9
          ],
          [
           4.6
          ],
          [
           4.5
          ],
          [
           4.5
          ],
          [
           4.5
          ],
          [
           5.4
          ],
          [
           4.5
          ],
          [
           4.9
          ],
          [
           5.2
          ],
          [
           6.6
          ],
          [
           4.7
          ],
          [
           4.8
          ],
          [
           4.8
          ],
          [
           4.5
          ],
          [
           5.4
          ],
          [
           4.6
          ],
          [
           4.5
          ],
          [
           4.5
          ],
          [
           4.8
          ],
          [
           4.8
          ],
          [
           4.9
          ],
          [
           5.2
          ],
          [
           4.7
          ],
          [
           4.9
          ],
          [
           5
          ],
          [
           4.7
          ],
          [
           4.6
          ],
          [
           4.6
          ],
          [
           4.5
          ],
          [
           4.5
          ],
          [
           5.8
          ],
          [
           4.6
          ],
          [
           4.9
          ],
          [
           4.5
          ],
          [
           4.5
          ],
          [
           4.7
          ],
          [
           5
          ],
          [
           5.4
          ],
          [
           4.8
          ],
          [
           5.1
          ],
          [
           5.4
          ],
          [
           4.7
          ],
          [
           4.7
          ],
          [
           4.7
          ],
          [
           4.6
          ],
          [
           4.5
          ],
          [
           4.9
          ],
          [
           4.5
          ],
          [
           4.5
          ],
          [
           4.5
          ],
          [
           5.2
          ],
          [
           4.8
          ],
          [
           4.5
          ],
          [
           4.5
          ],
          [
           5
          ],
          [
           4.6
          ],
          [
           4.5
          ],
          [
           4.5
          ],
          [
           5.1
          ],
          [
           4.5
          ],
          [
           5.6
          ],
          [
           5
          ],
          [
           4.5
          ],
          [
           5.5
          ],
          [
           6.7
          ],
          [
           5
          ],
          [
           4.7
          ],
          [
           4.7
          ],
          [
           4.8
          ],
          [
           4.6
          ],
          [
           5.2
          ],
          [
           4.7
          ],
          [
           4.7
          ],
          [
           4.8
          ],
          [
           4.9
          ],
          [
           4.7
          ],
          [
           5.4
          ],
          [
           4.5
          ],
          [
           4.8
          ],
          [
           4.5
          ],
          [
           4.6
          ],
          [
           4.8
          ],
          [
           4.5
          ],
          [
           5.3
          ],
          [
           4.8
          ],
          [
           4.8
          ],
          [
           5
          ],
          [
           4.6
          ],
          [
           4.7
          ],
          [
           4.6
          ],
          [
           4.9
          ],
          [
           4.7
          ],
          [
           4.5
          ],
          [
           5.2
          ],
          [
           4.5
          ],
          [
           4.7
          ],
          [
           4.6
          ],
          [
           4.7
          ],
          [
           4.5
          ],
          [
           5.2
          ],
          [
           4.7
          ],
          [
           4.9
          ],
          [
           4.5
          ],
          [
           4.7
          ],
          [
           4.7
          ],
          [
           4.5
          ],
          [
           5
          ],
          [
           4.9
          ],
          [
           6.1
          ],
          [
           4.6
          ],
          [
           4.7
          ],
          [
           5.2
          ],
          [
           4.7
          ],
          [
           4.5
          ],
          [
           4.8
          ],
          [
           5.1
          ],
          [
           4.7
          ],
          [
           5
          ],
          [
           5
          ],
          [
           4.8
          ],
          [
           4.9
          ],
          [
           4.5
          ],
          [
           4.7
          ],
          [
           4.5
          ],
          [
           4.5
          ],
          [
           4.6
          ],
          [
           5.1
          ],
          [
           5.7
          ],
          [
           5.8
          ],
          [
           4.8
          ],
          [
           4.5
          ],
          [
           5.5
          ],
          [
           4.5
          ],
          [
           4.7
          ],
          [
           4.5
          ],
          [
           4.8
          ],
          [
           5.6
          ],
          [
           4.6
          ],
          [
           4.7
          ],
          [
           5.1
          ],
          [
           5
          ],
          [
           4.6
          ],
          [
           4.7
          ],
          [
           4.6
          ],
          [
           5
          ],
          [
           4.6
          ],
          [
           5.4
          ],
          [
           4.6
          ],
          [
           4.6
          ],
          [
           4.5
          ],
          [
           4.8
          ],
          [
           5.1
          ],
          [
           4.5
          ],
          [
           4.9
          ],
          [
           4.9
          ],
          [
           4.6
          ],
          [
           5
          ],
          [
           4.7
          ],
          [
           5.8
          ],
          [
           5.1
          ],
          [
           5
          ],
          [
           4.5
          ],
          [
           4.9
          ],
          [
           4.9
          ],
          [
           4.6
          ],
          [
           5.4
          ],
          [
           4.8
          ],
          [
           4.7
          ],
          [
           4.6
          ],
          [
           4.8
          ],
          [
           5
          ],
          [
           4.6
          ],
          [
           4.7
          ],
          [
           4.8
          ],
          [
           4.6
          ],
          [
           4.7
          ],
          [
           4.6
          ],
          [
           4.6
          ],
          [
           4.7
          ],
          [
           4.6
          ],
          [
           5
          ],
          [
           4.6
          ],
          [
           4.6
          ],
          [
           4.7
          ],
          [
           4.6
          ],
          [
           4.8
          ],
          [
           4.5
          ],
          [
           4.6
          ],
          [
           4.9
          ],
          [
           4.8
          ],
          [
           4.8
          ],
          [
           4.7
          ],
          [
           4.5
          ],
          [
           4.9
          ],
          [
           4.5
          ],
          [
           4.8
          ],
          [
           4.6
          ],
          [
           4.8
          ],
          [
           4.5
          ],
          [
           5
          ],
          [
           4.8
          ],
          [
           4.6
          ],
          [
           5.2
          ],
          [
           4.9
          ],
          [
           4.6
          ],
          [
           4.9
          ],
          [
           4.6
          ],
          [
           4.5
          ],
          [
           4.7
          ],
          [
           4.5
          ],
          [
           4.6
          ],
          [
           5.5
          ],
          [
           5.3
          ],
          [
           4.8
          ],
          [
           5.4
          ],
          [
           4.8
          ],
          [
           4.6
          ],
          [
           4.6
          ],
          [
           4.5
          ],
          [
           4.6
          ],
          [
           4.7
          ],
          [
           4.7
          ],
          [
           4.6
          ],
          [
           5
          ],
          [
           5
          ],
          [
           4.7
          ],
          [
           5.7
          ],
          [
           4.6
          ],
          [
           5.7
          ],
          [
           4.7
          ],
          [
           4.8
          ],
          [
           4.6
          ],
          [
           5.1
          ],
          [
           4.6
          ],
          [
           4.6
          ],
          [
           6
          ],
          [
           4.9
          ],
          [
           4.5
          ],
          [
           5.2
          ],
          [
           4.5
          ],
          [
           4.9
          ],
          [
           5
          ],
          [
           4.5
          ],
          [
           4.5
          ],
          [
           4.7
          ],
          [
           6.8
          ],
          [
           4.6
          ],
          [
           4.8
          ],
          [
           4.9
          ],
          [
           4.8
          ],
          [
           4.7
          ],
          [
           5
          ],
          [
           5.9
          ],
          [
           4.8
          ],
          [
           4.8
          ],
          [
           4.5
          ],
          [
           4.8
          ],
          [
           5.9
          ],
          [
           4.5
          ],
          [
           4.7
          ],
          [
           4.9
          ],
          [
           4.9
          ],
          [
           4.7
          ],
          [
           4.5
          ],
          [
           5.6
          ],
          [
           4.8
          ],
          [
           4.5
          ],
          [
           4.5
          ],
          [
           4.6
          ],
          [
           4.6
          ],
          [
           5.1
          ],
          [
           4.6
          ],
          [
           4.7
          ],
          [
           4.9
          ],
          [
           6.6
          ],
          [
           4.5
          ],
          [
           4.6
          ],
          [
           4.5
          ],
          [
           5.1
          ],
          [
           4.5
          ],
          [
           4.9
          ],
          [
           4.6
          ],
          [
           4.9
          ],
          [
           4.6
          ],
          [
           4.8
          ],
          [
           4.6
          ],
          [
           4.5
          ],
          [
           4.8
          ],
          [
           4.5
          ],
          [
           4.5
          ],
          [
           5.1
          ],
          [
           4.7
          ],
          [
           4.6
          ],
          [
           4.7
          ],
          [
           4.6
          ],
          [
           4.6
          ],
          [
           4.7
          ],
          [
           4.7
          ],
          [
           4.7
          ],
          [
           4.8
          ],
          [
           4.7
          ],
          [
           4.9
          ],
          [
           4.6
          ],
          [
           4.9
          ],
          [
           4.8
          ],
          [
           5.5
          ],
          [
           4.9
          ],
          [
           4.6
          ],
          [
           5.3
          ],
          [
           4.6
          ],
          [
           4.5
          ],
          [
           4.8
          ],
          [
           4.6
          ],
          [
           4.6
          ],
          [
           4.8
          ],
          [
           4.5
          ],
          [
           4.6
          ],
          [
           5.6
          ],
          [
           5.5
          ],
          [
           4.5
          ],
          [
           4.6
          ],
          [
           4.5
          ],
          [
           4.6
          ],
          [
           4.7
          ],
          [
           4.8
          ],
          [
           4.8
          ],
          [
           4.6
          ],
          [
           4.9
          ],
          [
           4.5
          ],
          [
           4.9
          ],
          [
           5.9
          ],
          [
           5.1
          ],
          [
           4.9
          ],
          [
           4.6
          ],
          [
           4.9
          ],
          [
           4.6
          ],
          [
           4.6
          ],
          [
           5
          ],
          [
           4.7
          ],
          [
           4.8
          ],
          [
           4.6
          ],
          [
           4.6
          ],
          [
           5.5
          ],
          [
           4.8
          ],
          [
           4.5
          ],
          [
           5.4
          ],
          [
           4.5
          ],
          [
           5.3
          ],
          [
           4.5
          ],
          [
           5.5
          ],
          [
           4.6
          ],
          [
           5.4
          ],
          [
           4.6
          ],
          [
           4.7
          ],
          [
           4.8
          ],
          [
           4.7
          ],
          [
           4.5
          ],
          [
           5.3
          ],
          [
           4.5
          ],
          [
           4.9
          ],
          [
           4.8
          ],
          [
           4.8
          ],
          [
           5.9
          ],
          [
           4.9
          ],
          [
           5
          ],
          [
           4.5
          ],
          [
           4.7
          ],
          [
           4.6
          ],
          [
           5.9
          ],
          [
           4.5
          ],
          [
           4.5
          ],
          [
           4.8
          ],
          [
           5.4
          ],
          [
           4.6
          ],
          [
           4.6
          ],
          [
           4.8
          ],
          [
           5.3
          ],
          [
           4.6
          ],
          [
           4.7
          ],
          [
           4.8
          ],
          [
           4.5
          ],
          [
           4.7
          ],
          [
           4.8
          ],
          [
           4.7
          ],
          [
           5.6
          ],
          [
           4.6
          ],
          [
           5
          ],
          [
           4.9
          ],
          [
           4.5
          ],
          [
           4.5
          ],
          [
           4.6
          ],
          [
           5.2
          ],
          [
           5
          ],
          [
           4.6
          ],
          [
           5.4
          ],
          [
           4.7
          ],
          [
           4.9
          ],
          [
           4.5
          ],
          [
           5.6
          ],
          [
           5.1
          ],
          [
           4.5
          ],
          [
           5.7
          ],
          [
           4.5
          ],
          [
           4.7
          ],
          [
           4.7
          ],
          [
           4.9
          ],
          [
           4.9
          ],
          [
           4.5
          ],
          [
           4.9
          ],
          [
           4.8
          ],
          [
           5.2
          ],
          [
           4.5
          ],
          [
           4.6
          ],
          [
           4.6
          ],
          [
           4.7
          ],
          [
           4.7
          ],
          [
           4.6
          ],
          [
           4.5
          ],
          [
           4.5
          ],
          [
           5
          ],
          [
           4.6
          ],
          [
           6.1
          ],
          [
           5.1
          ],
          [
           5.3
          ],
          [
           4.5
          ],
          [
           4.9
          ],
          [
           4.5
          ],
          [
           4.5
          ],
          [
           4.8
          ],
          [
           4.8
          ],
          [
           4.7
          ],
          [
           4.6
          ],
          [
           5.2
          ],
          [
           4.6
          ],
          [
           4.5
          ],
          [
           4.5
          ],
          [
           4.7
          ],
          [
           4.9
          ],
          [
           4.8
          ],
          [
           5.3
          ],
          [
           5.2
          ],
          [
           4.5
          ],
          [
           5.2
          ],
          [
           4.5
          ],
          [
           7
          ],
          [
           4.7
          ],
          [
           4.6
          ],
          [
           5.5
          ],
          [
           4.5
          ],
          [
           4.5
          ],
          [
           4.6
          ],
          [
           4.8
          ],
          [
           4.6
          ],
          [
           4.6
          ],
          [
           4.8
          ],
          [
           4.5
          ],
          [
           4.5
          ],
          [
           5
          ],
          [
           5.1
          ],
          [
           4.7
          ],
          [
           5.4
          ],
          [
           4.5
          ],
          [
           4.5
          ],
          [
           5.1
          ],
          [
           4.6
          ],
          [
           4.8
          ],
          [
           4.5
          ],
          [
           4.5
          ],
          [
           4.8
          ],
          [
           4.8
          ],
          [
           4.8
          ],
          [
           4.8
          ],
          [
           4.8
          ],
          [
           4.5
          ],
          [
           4.8
          ],
          [
           5.5
          ],
          [
           4.6
          ],
          [
           4.7
          ],
          [
           4.5
          ],
          [
           4.5
          ],
          [
           4.6
          ],
          [
           5.2
          ],
          [
           4.6
          ],
          [
           4.8
          ],
          [
           4.8
          ],
          [
           4.8
          ],
          [
           4.7
          ],
          [
           4.7
          ],
          [
           4.6
          ],
          [
           4.5
          ],
          [
           4.9
          ],
          [
           4.9
          ],
          [
           4.6
          ],
          [
           4.5
          ],
          [
           4.6
          ],
          [
           4.6
          ],
          [
           5.5
          ],
          [
           4.7
          ],
          [
           4.7
          ],
          [
           5.3
          ],
          [
           4.8
          ],
          [
           4.8
          ],
          [
           4.5
          ],
          [
           5.1
          ],
          [
           4.9
          ],
          [
           4.6
          ],
          [
           4.7
          ],
          [
           5.1
          ],
          [
           4.6
          ],
          [
           5.1
          ],
          [
           4.9
          ],
          [
           5.1
          ],
          [
           5.1
          ],
          [
           4.9
          ],
          [
           4.7
          ],
          [
           4.5
          ],
          [
           4.5
          ],
          [
           4.9
          ],
          [
           4.9
          ],
          [
           5.5
          ],
          [
           4.6
          ],
          [
           5.2
          ],
          [
           5
          ],
          [
           4.6
          ],
          [
           4.9
          ],
          [
           5.8
          ],
          [
           4.7
          ],
          [
           4.5
          ],
          [
           4.8
          ],
          [
           4.6
          ],
          [
           4.8
          ],
          [
           4.6
          ],
          [
           4.6
          ],
          [
           4.5
          ],
          [
           4.7
          ],
          [
           4.6
          ],
          [
           4.5
          ],
          [
           4.6
          ],
          [
           4.8
          ],
          [
           4.9
          ],
          [
           5.3
          ],
          [
           4.7
          ],
          [
           4.9
          ],
          [
           4.5
          ],
          [
           4.8
          ],
          [
           4.8
          ],
          [
           4.8
          ],
          [
           4.6
          ],
          [
           4.5
          ],
          [
           4.6
          ],
          [
           5.6
          ],
          [
           4.5
          ],
          [
           4.5
          ],
          [
           5.1
          ],
          [
           5.2
          ],
          [
           4.7
          ],
          [
           4.5
          ],
          [
           4.6
          ],
          [
           5.4
          ],
          [
           4.6
          ],
          [
           4.6
          ],
          [
           4.5
          ],
          [
           4.7
          ],
          [
           4.9
          ],
          [
           4.8
          ],
          [
           4.5
          ],
          [
           4.7
          ],
          [
           5.2
          ],
          [
           4.7
          ],
          [
           5.1
          ],
          [
           5.3
          ],
          [
           5.3
          ],
          [
           5.4
          ],
          [
           4.9
          ],
          [
           4.6
          ],
          [
           5
          ],
          [
           4.5
          ],
          [
           4.7
          ],
          [
           5.8
          ],
          [
           4.5
          ],
          [
           4.9
          ],
          [
           4.5
          ],
          [
           4.5
          ],
          [
           4.7
          ],
          [
           4.6
          ],
          [
           4.7
          ],
          [
           5.3
          ],
          [
           4.7
          ],
          [
           4.6
          ],
          [
           4.6
          ],
          [
           4.5
          ],
          [
           4.7
          ],
          [
           6.5
          ],
          [
           5.3
          ],
          [
           4.5
          ],
          [
           4.6
          ],
          [
           4.6
          ],
          [
           4.8
          ],
          [
           4.9
          ],
          [
           4.8
          ],
          [
           5.4
          ],
          [
           4.5
          ],
          [
           4.8
          ],
          [
           4.8
          ],
          [
           4.5
          ],
          [
           5.1
          ],
          [
           5.9
          ],
          [
           4.9
          ],
          [
           5.1
          ],
          [
           4.6
          ],
          [
           4.8
          ],
          [
           4.8
          ],
          [
           4.6
          ],
          [
           5
          ],
          [
           5.2
          ],
          [
           4.8
          ],
          [
           5.2
          ],
          [
           4.6
          ],
          [
           4.5
          ],
          [
           4.9
          ],
          [
           4.7
          ],
          [
           4.7
          ],
          [
           4.6
          ],
          [
           4.7
          ],
          [
           4.9
          ],
          [
           4.7
          ],
          [
           4.6
          ],
          [
           5.9
          ],
          [
           4.5
          ],
          [
           4.6
          ],
          [
           4.5
          ],
          [
           4.5
          ],
          [
           4.6
          ],
          [
           5.9
          ],
          [
           4.8
          ],
          [
           4.6
          ],
          [
           6.3
          ],
          [
           4.7
          ],
          [
           4.9
          ],
          [
           4.6
          ],
          [
           4.7
          ],
          [
           4.6
          ],
          [
           5.7
          ],
          [
           6.9
          ],
          [
           4.8
          ]
         ],
         "geo": "geo",
         "hovertemplate": "latitude=%{lat}<br>longitude=%{lon}<br>mag=%{customdata[0]}<extra></extra>",
         "lat": [
          27.76,
          37.48,
          36.33,
          37.28,
          30,
          45.68,
          47.78,
          46.68,
          33.42,
          25.64,
          38.56,
          42.59,
          34.33,
          46.42,
          37.5,
          32.14,
          35.03,
          46.52,
          38.1,
          46.1,
          36.1,
          25.87,
          37.29,
          31.94,
          38.01,
          46.9,
          41.47,
          45.45,
          37.26,
          30.93,
          35.13,
          38.59,
          31.38,
          38.86,
          48.4,
          44.18,
          46.79,
          26.22,
          28.4,
          30.79,
          26.38,
          26.49,
          37.71,
          46.79,
          28.18,
          25.97,
          30.5,
          37.78,
          35.7,
          35.94,
          28.37,
          43.88,
          40.16,
          44.41,
          37.51,
          30.5,
          38.37,
          36.49,
          29.28,
          28.24,
          44.14,
          40.18,
          46.22,
          45.56,
          47.32,
          26.3,
          26.81,
          35.86,
          37.14,
          36.42,
          41.97,
          26.62,
          27.63,
          45.98,
          43.11,
          36.58,
          44.45,
          35.3,
          40.82,
          35.73,
          39.5,
          41.47,
          35.21,
          37.56,
          25.5,
          39.94,
          36.68,
          26.76,
          37,
          49.37,
          34.82,
          33.58,
          33.84,
          37.79,
          38.25,
          25.41,
          26.05,
          31.14,
          33.57,
          46.22,
          26.86,
          46.36,
          45.34,
          37.4,
          38.86,
          39.84,
          33.76,
          47.68,
          47.57,
          31.45,
          38.25,
          36.17,
          38.92,
          46.61,
          31.92,
          35.6,
          36.43,
          37.65,
          33.42,
          40.93,
          47.33,
          46.73,
          29.21,
          37.7,
          30.83,
          43.11,
          35.06,
          37.89,
          46.33,
          28.06,
          46.81,
          49.18,
          39.96,
          36.68,
          33.45,
          48.28,
          44.64,
          43.4,
          49.27,
          37.75,
          44.35,
          43.26,
          26.91,
          44.28,
          39.13,
          47.04,
          38.5,
          46.68,
          39.67,
          35.27,
          36.86,
          38.87,
          42.57,
          38.64,
          39.88,
          44.23,
          40.97,
          37.75,
          42.04,
          46.18,
          38.02,
          25.39,
          36.7,
          41.15,
          39.29,
          47.24,
          38.72,
          24.3,
          40.21,
          44.3,
          41.62,
          26.93,
          39.51,
          38.08,
          36.23,
          38.86,
          35.42,
          45.05,
          36.16,
          46.56,
          49.7,
          44.27,
          26.53,
          47.16,
          37.16,
          39.48,
          46.44,
          26.12,
          38.74,
          37.98,
          47.24,
          47.5,
          36.48,
          28.81,
          37.22,
          33.98,
          42.21,
          39.08,
          35.86,
          35.84,
          47.44,
          28.27,
          46.29,
          27,
          40.09,
          45.93,
          44.52,
          42.2,
          38.22,
          44.63,
          46.69,
          24.66,
          39.09,
          50.58,
          40.17,
          25.68,
          26.99,
          24.23,
          42.73,
          33.85,
          36.64,
          44.91,
          46.69,
          28.8,
          44.25,
          39.7,
          36.42,
          39.53,
          47.82,
          47.73,
          37.07,
          39.93,
          47.56,
          26.98,
          26.34,
          36.72,
          37.32,
          37.29,
          43.75,
          25.64,
          47.32,
          36.98,
          35.5,
          27.92,
          30.05,
          35.45,
          33.28,
          28.7,
          41.06,
          39.76,
          35.78,
          36.57,
          37.16,
          34.79,
          30.46,
          38.17,
          42.88,
          32.01,
          46.31,
          46.92,
          46.38,
          25.72,
          34.47,
          27.56,
          35.18,
          27.03,
          33.26,
          44.25,
          28.84,
          37.3,
          34.75,
          43.09,
          25.95,
          46.08,
          26.73,
          39.34,
          29.19,
          26.73,
          36.42,
          37.01,
          46.66,
          37,
          27.53,
          37.55,
          46.37,
          35.42,
          36.42,
          37.56,
          38.72,
          37.73,
          37.83,
          38.14,
          37.23,
          36.4,
          44.98,
          38.86,
          45.28,
          27.2,
          42.16,
          36.12,
          34.91,
          40.75,
          44.59,
          36.25,
          31.16,
          50.18,
          32.01,
          29.26,
          48.23,
          44.56,
          36.74,
          41.99,
          47.02,
          38.89,
          29.51,
          33.72,
          35.98,
          37.39,
          38.38,
          43.33,
          36.64,
          37.25,
          30.37,
          32.74,
          36.53,
          26.66,
          35.74,
          28,
          36.97,
          34.47,
          38.97,
          27.34,
          36.59,
          36.15,
          38.55,
          49.2,
          40.39,
          26.89,
          46.39,
          27.02,
          43.99,
          34.24,
          46.96,
          37.73,
          38.01,
          37.84,
          45.45,
          44.22,
          48.19,
          33.01,
          47.17,
          36.84,
          46.48,
          39.39,
          30.51,
          38.12,
          42.04,
          38.23,
          27.23,
          27.13,
          41.75,
          36.07,
          37.53,
          37.09,
          32.82,
          37.11,
          36.29,
          37.4,
          35.88,
          33.2,
          44.43,
          27.63,
          36.76,
          36.43,
          47.58,
          37.49,
          38.53,
          46.94,
          38.09,
          43.15,
          40.15,
          29.77,
          33.39,
          24.8,
          46.18,
          39.08,
          29.95,
          37.28,
          33.01,
          26.57,
          36.01,
          35.81,
          39.03,
          38.39,
          27.08,
          46.92,
          45.89,
          45.76,
          32.6,
          33.18,
          44.48,
          39.07,
          29.29,
          29.35,
          35.98,
          36.02,
          37.13,
          29.4,
          42.55,
          49.01,
          28.3,
          36.98,
          36.85,
          27.34,
          29.6,
          46.43,
          36.55,
          27.21,
          37.68,
          40.27,
          31.43,
          42.56,
          43.71,
          32.66,
          39.02,
          40.12,
          28,
          28.59,
          38.38,
          26.98,
          27.16,
          39.55,
          37.09,
          27.81,
          39.15,
          35.48,
          46.69,
          48.68,
          46.71,
          42.2,
          46.77,
          50.07,
          37.15,
          46.58,
          44.68,
          38.22,
          37.02,
          38.91,
          42.64,
          37.48,
          39.65,
          29.42,
          36.53,
          46.97,
          37.25,
          46.23,
          44.36,
          43.89,
          26.81,
          37.66,
          38.32,
          36.05,
          43.77,
          39.81,
          41.05,
          41.6,
          41.12,
          36.59,
          37.53,
          37.96,
          39.2,
          48.15,
          26.62,
          42.54,
          49.95,
          26.63,
          36.58,
          30.08,
          35.38,
          47.64,
          35.12,
          26.74,
          48.92,
          38.96,
          37.41,
          26.8,
          46.86,
          43.05,
          31.52,
          31.91,
          49.25,
          37.42,
          37.56,
          24.68,
          42.97,
          27.65,
          36.44,
          35.42,
          47.2,
          35.64,
          37.61,
          44.55,
          39.83,
          45.58,
          27.57,
          30.71,
          39.39,
          32.95,
          36.18,
          48.37,
          32.1,
          38.19,
          38.88,
          41.92,
          36.77,
          35.91,
          39.1,
          36.81,
          44.17,
          36.82,
          46.17,
          27.14,
          37.22,
          41.96,
          36.15,
          39.19,
          37.83,
          36.57,
          37.24,
          36.96,
          26.76,
          49.4,
          37.09,
          34.95,
          35.6,
          39.15,
          46.92,
          36.02,
          41.38,
          46.95,
          46.44,
          29.48,
          39.93,
          41.52,
          43.04,
          26.76,
          37.82,
          47.06,
          33.26,
          36.07,
          34.21,
          35.58,
          43,
          24.12,
          36.83,
          33.6,
          46.46,
          36.76,
          45.36,
          36.66,
          27.13,
          28.14,
          36.29,
          31.35,
          31.41,
          44.78,
          42.67,
          31.77,
          33.28,
          39.61,
          31.39,
          46.81,
          31.29,
          45.82,
          46.49,
          49.22,
          25.74,
          38.7,
          36.64,
          40.18,
          46.77,
          43.92,
          34.4,
          35.26,
          36.05,
          37.75,
          45.09,
          36.33,
          29.13,
          41.08,
          35.71,
          39.36,
          39.92,
          43.55,
          30.11,
          37.3,
          37.7,
          36.51,
          36.66,
          46.55,
          39.8,
          33.28,
          45.86,
          42.84,
          41.62,
          35.9,
          26.6,
          38.48,
          36.75,
          26.74,
          28.1,
          30.02,
          35.95,
          36.29,
          39.78,
          26.45,
          46.74,
          33.55,
          45.46,
          48.26,
          36.59,
          26.97,
          39.82,
          36.66,
          26.39,
          37,
          41.54,
          43.31,
          26.84,
          33.2,
          36.26,
          30.84,
          27.09,
          46.22,
          36.08,
          37.53,
          28.09,
          33.2,
          41.98,
          37.87,
          47.21,
          44.47,
          46.12,
          42.56,
          37.75,
          27.92,
          25.44,
          28.8,
          27.47,
          47.18,
          26.27,
          37.84,
          36.91,
          44.45,
          25.49,
          28.62,
          34.54,
          39.67,
          44.26,
          45.85,
          37.26,
          38.56,
          44.53,
          37.3,
          27.13,
          35.07,
          44.7,
          37.16,
          34.28,
          36.77,
          48.35,
          46.67,
          38.79,
          37.06,
          25.21,
          26.61,
          46.73,
          38.25,
          48.2,
          36.63,
          42.32,
          38.55,
          32.02,
          47.16,
          28.75,
          42.32,
          35.75,
          35.51,
          36.73,
          26.01,
          28.7,
          46.86,
          43.01,
          37.3,
          34.6,
          26.3,
          25.23,
          38.43,
          49.26,
          25.74,
          41.88,
          32.1,
          35.26,
          40.02,
          36.16,
          38.28,
          48.28,
          36.28,
          48.56,
          35.97,
          25.4,
          26.76,
          40.33,
          29.19,
          46.53,
          23.91,
          38.3,
          37.38,
          43.12,
          38.27,
          35.63,
          36.6,
          45.15,
          40.86,
          28.16,
          49.25,
          27,
          31.46,
          38.62,
          37.93,
          39.25,
          37.91,
          39.65,
          35.14,
          39.62,
          36.81,
          42.88,
          26.06,
          44.52,
          39.37,
          38.74,
          46.63,
          27.64,
          46.62,
          42.36,
          38.21,
          37.56,
          29.23,
          36.88,
          26.62,
          36.86,
          38.96,
          30.45,
          35.15,
          45.87,
          39.79,
          38.25,
          37.07,
          46.01,
          39.54,
          36.25,
          34.44,
          30.58,
          46.12,
          38.18,
          27.04,
          24.64,
          38.31,
          40.8,
          35.64,
          38.83,
          46.48,
          28.01,
          26.73,
          26.78,
          39.47,
          37.28,
          31.37,
          44.18,
          38.29,
          39.57,
          35.88,
          31.65,
          37.74,
          40.2,
          36.69,
          37.45,
          42.5,
          35.58,
          29.06,
          35.47,
          25.47,
          37.79,
          35.68,
          39.2,
          35.26,
          36.35,
          38.67,
          37.83,
          32.79,
          36.67,
          37.65,
          23.9,
          37.1,
          27.97,
          27.56,
          37.65,
          38.41,
          36.21,
          44.26,
          32.41,
          44.62,
          30.07,
          34.55,
          37.86,
          46.09,
          26.99,
          37.27,
          41.48,
          35.29,
          30.61,
          34.1,
          37.58,
          41.96,
          37.14,
          39.65,
          36.56,
          43.33,
          37.22,
          46.56,
          41.72,
          46.06,
          36.21,
          37.42,
          37.96,
          42.49,
          46.48,
          34.26,
          37.08,
          43.17,
          28.33,
          47.05,
          35.42,
          36.23,
          36.23,
          39.66,
          47.31,
          36.44,
          46.56,
          37.08,
          46.06,
          40.59,
          39.15,
          32.64,
          38.31,
          37.26,
          35.45,
          44.63,
          46.72,
          34.23,
          37.71,
          40.99,
          45.88,
          36.21,
          36.95,
          35.68,
          46.7,
          38.64,
          30.74,
          36.64,
          35.39,
          38.91,
          44.73,
          35,
          43.43,
          26.88,
          26.88,
          39.57,
          37.7,
          40.88,
          34.37,
          35.72,
          47.97,
          37.99,
          36.63,
          29.67,
          34.46,
          35.51,
          38.18,
          45.37,
          37.48,
          35.67,
          34.02,
          33.03,
          27.06,
          31.68,
          33.54,
          35.6,
          40.72,
          36.74,
          38.09,
          45.28,
          28.04,
          45.06,
          30.49,
          36.11,
          27.06,
          47.26,
          37.23,
          43.05,
          38.88,
          29.83,
          42.49,
          42.01,
          39.21,
          33.05,
          40.93,
          34.88,
          35.74,
          38.75,
          25.5,
          38.75,
          37.74,
          33.22,
          27.22,
          37.74,
          38.47,
          32.74,
          37.17,
          36.76,
          45.74,
          46.37,
          44.59,
          37.68,
          37.51,
          47.86,
          29.48,
          35.39,
          29.29,
          36.51,
          28.02,
          42.08,
          39.63,
          44.48,
          37.19,
          44.77,
          44.16,
          29.94,
          46.3,
          36.51,
          27.58,
          39.08,
          36.13,
          35.88,
          44.21,
          28.75,
          46.98,
          35.32,
          26.98,
          36.74,
          26.97,
          31.71,
          49.16,
          37.38,
          25.63,
          39.09,
          33.92,
          39.79,
          25.52,
          38.5,
          36.26,
          36.56,
          27.17,
          36.8,
          37.24,
          36.3,
          27.18,
          26.7,
          39.94,
          24.8,
          31.29,
          30.06,
          36.54,
          23.67,
          26.11,
          36.12,
          49.26,
          46.13,
          28.32,
          46.51,
          48.65,
          39.7,
          29.01,
          36.57,
          44.05,
          42.68,
          46.83,
          45.52,
          42.77,
          29.18
         ],
         "legendgroup": "",
         "lon": [
          127.64,
          144.06,
          141.1,
          138.88,
          131.13,
          151.52,
          153.8,
          155.04,
          140.63,
          125.1,
          144.31,
          142.05,
          141.61,
          153.23,
          141.16,
          137.68,
          142.3,
          153.18,
          142.08,
          152.35,
          141.1,
          124.92,
          140.93,
          141.62,
          142.6,
          154.92,
          141.99,
          150.68,
          140.99,
          141.18,
          141.12,
          142.88,
          127.33,
          142.53,
          154.75,
          149.78,
          152.34,
          126.05,
          142.61,
          131.36,
          128.45,
          129.59,
          143.78,
          155.07,
          142.87,
          128.32,
          142.04,
          142.98,
          140.98,
          141.76,
          142.55,
          149.25,
          141.69,
          147.93,
          141.45,
          142.05,
          144.46,
          141.46,
          142.77,
          143.49,
          149.63,
          142.39,
          152.95,
          142.22,
          142.6,
          125.86,
          143.94,
          139.85,
          142.43,
          141.69,
          144.75,
          129.78,
          143.06,
          153.83,
          146.39,
          141.06,
          149.18,
          140.51,
          142.24,
          141.14,
          143.83,
          142.03,
          141.16,
          141.68,
          142.65,
          143.51,
          137.92,
          143.68,
          140.48,
          155.68,
          142.89,
          141.75,
          135.32,
          143.14,
          141.83,
          124.45,
          128.52,
          130.35,
          136.76,
          154.4,
          143.99,
          154.47,
          149.99,
          142.15,
          142.11,
          139.92,
          134.4,
          147.06,
          154.09,
          138.49,
          142.18,
          141.57,
          142.53,
          154.93,
          132.08,
          140.73,
          140.87,
          143.77,
          140.84,
          143.23,
          142.77,
          152.87,
          130.37,
          143.39,
          131.39,
          145.61,
          139.28,
          144.91,
          152.98,
          142.96,
          152.68,
          155.68,
          142.34,
          141.79,
          136.03,
          154.77,
          149.36,
          146.78,
          156.2,
          142.4,
          148.9,
          144.53,
          143.31,
          149.37,
          143.5,
          153.99,
          141.98,
          149.75,
          141.08,
          141.02,
          143.93,
          144.74,
          141.8,
          144.75,
          143.35,
          149.11,
          141.73,
          143.7,
          144.18,
          153.11,
          139.57,
          140.98,
          142.24,
          142.35,
          143.49,
          153.77,
          144.43,
          124.85,
          143.93,
          148.02,
          141.98,
          143.71,
          143.57,
          142.6,
          141.88,
          141.7,
          140.15,
          147.02,
          142.01,
          153.4,
          154.64,
          149.37,
          128.89,
          154.04,
          143.74,
          143.53,
          153.12,
          144.01,
          142.12,
          143.77,
          142.59,
          154.21,
          142.55,
          140.52,
          138.73,
          136.81,
          144.44,
          142.38,
          141.4,
          140.81,
          152.81,
          142.43,
          152.88,
          126.83,
          142.68,
          154.34,
          148.01,
          144.94,
          141.91,
          148.11,
          147.4,
          127.99,
          142.49,
          157.31,
          142.39,
          125.24,
          143.78,
          125.1,
          145.3,
          141.68,
          143.2,
          149.62,
          153.68,
          128.71,
          147.48,
          141.94,
          142.49,
          143.17,
          146.21,
          153.82,
          140.79,
          143.83,
          155.22,
          143.83,
          143.86,
          142.34,
          141.08,
          143.71,
          146.01,
          126.35,
          152.1,
          142.82,
          140.76,
          142.55,
          142.43,
          141.78,
          130.75,
          128.56,
          142.4,
          142.11,
          139.53,
          141.8,
          143,
          135.61,
          132.4,
          144.76,
          142.74,
          141.8,
          154.24,
          152.74,
          152.99,
          140.84,
          141.55,
          139.78,
          141.39,
          143.28,
          142.32,
          149.1,
          130.67,
          143.16,
          141.13,
          145.68,
          124.78,
          154.48,
          143.76,
          142.03,
          130.68,
          143.69,
          138.8,
          142.41,
          152.86,
          142.54,
          128.33,
          143.7,
          151.07,
          140.57,
          143.36,
          142.87,
          142.15,
          143.64,
          143.52,
          142.91,
          144.77,
          140.88,
          147.18,
          141.45,
          150.39,
          127.28,
          142.89,
          141.62,
          139.42,
          144.96,
          141.29,
          141.79,
          131.42,
          157.08,
          129.04,
          130.43,
          153.25,
          149.3,
          143.74,
          142.6,
          153.46,
          142.4,
          138.81,
          130.21,
          141.85,
          143.76,
          142.23,
          146.11,
          144.55,
          142.97,
          132.46,
          140.5,
          141.83,
          129.82,
          140.61,
          128.42,
          144.28,
          141.83,
          141.24,
          143.24,
          141.1,
          141.6,
          141.68,
          156.28,
          143.85,
          143.71,
          153.11,
          143.58,
          147.99,
          139.15,
          152.67,
          143.57,
          143.56,
          141.4,
          150.83,
          148.6,
          152.75,
          131.16,
          155.52,
          141.25,
          153.3,
          143.36,
          141.96,
          143.5,
          139.85,
          143.28,
          143.58,
          129.84,
          144.02,
          143.4,
          138.03,
          143.47,
          140.4,
          140.63,
          142.59,
          142.15,
          141.02,
          137.35,
          148.12,
          142.07,
          141.18,
          141.61,
          155.71,
          142.86,
          144.25,
          152.66,
          144.12,
          147,
          143.88,
          142.13,
          141.89,
          128.05,
          153.66,
          142.08,
          131.19,
          141.54,
          136.72,
          143.79,
          139.51,
          140.98,
          140.85,
          143.34,
          143.43,
          152.74,
          154.23,
          153.47,
          140.86,
          136.95,
          145.6,
          143.18,
          143.24,
          141.31,
          140.28,
          141.79,
          140.84,
          130.81,
          144.17,
          156.17,
          141.36,
          142.51,
          141.95,
          141.32,
          141.08,
          152.98,
          141.68,
          143.48,
          143.31,
          142.78,
          140.86,
          142.22,
          147.6,
          130.69,
          142.46,
          142.6,
          139.18,
          141.01,
          145,
          143.62,
          143.62,
          143.04,
          143.58,
          140.53,
          141.77,
          141.02,
          154.73,
          142.47,
          152.48,
          142.86,
          152.95,
          156.78,
          140.84,
          152.7,
          141.96,
          143.25,
          140.44,
          141.88,
          143.18,
          141.41,
          142.07,
          130.48,
          141.78,
          152.88,
          141.56,
          151.95,
          148.5,
          147.08,
          143.79,
          141.94,
          143.59,
          141.61,
          147.22,
          143.1,
          142,
          141.92,
          142.19,
          141.6,
          143.82,
          143,
          142.32,
          154.67,
          129.12,
          142.18,
          157.14,
          126.66,
          138.48,
          140.95,
          141.2,
          152.78,
          141.05,
          129.5,
          154.92,
          142.4,
          141.49,
          141.6,
          153.73,
          147.71,
          143.05,
          132.02,
          156.08,
          142.45,
          143.65,
          125.19,
          145.64,
          143.35,
          140.59,
          140.84,
          154.14,
          142.03,
          144.67,
          150.61,
          141.34,
          149.01,
          141.37,
          141.92,
          143.53,
          140.39,
          141.58,
          154.64,
          139.56,
          143.16,
          141.55,
          144.36,
          140.32,
          139.97,
          143.49,
          141.07,
          149.38,
          140.98,
          153.15,
          143.3,
          141.66,
          142.24,
          141.81,
          143.26,
          144.1,
          143.59,
          144.16,
          140.79,
          144.12,
          156.33,
          142.22,
          141.29,
          140.05,
          143.52,
          152.72,
          142.11,
          141.18,
          149.53,
          153.4,
          132.16,
          143.6,
          143.32,
          146.89,
          129.62,
          144.06,
          155.35,
          142.34,
          141.88,
          141.62,
          141.06,
          131.04,
          127.25,
          141.02,
          141.28,
          153,
          140.31,
          153.98,
          142.08,
          143.42,
          139.72,
          142.46,
          141.75,
          141.6,
          149.8,
          141.35,
          141.7,
          139.26,
          142.57,
          141.88,
          155.15,
          141.88,
          151.96,
          149.81,
          156.23,
          144.93,
          142.33,
          141.88,
          142.39,
          153.14,
          147.27,
          136.19,
          132.55,
          140.16,
          145.05,
          149.53,
          142.74,
          130.4,
          142.26,
          140.88,
          141.78,
          143.62,
          146.72,
          130.99,
          141.19,
          143.94,
          141.98,
          143.71,
          154.85,
          141.46,
          139.16,
          153.62,
          130.48,
          144.21,
          141.31,
          129.56,
          141.63,
          143.6,
          144.08,
          129.4,
          131.18,
          141.34,
          141.71,
          141.8,
          142.53,
          155.66,
          141.24,
          151.79,
          154.38,
          142.08,
          143.48,
          143.55,
          142.33,
          128.89,
          141.12,
          142.05,
          146.26,
          143.48,
          137.23,
          141.31,
          141.93,
          143.4,
          152.14,
          141.78,
          143.58,
          143.01,
          140.97,
          134.15,
          138.24,
          153.94,
          149.05,
          154.53,
          144.23,
          144.54,
          139.84,
          142.55,
          129.92,
          139.92,
          153.98,
          126.86,
          144.01,
          141.37,
          148.08,
          124.58,
          128.37,
          141.58,
          143.42,
          148.47,
          153.94,
          139.88,
          143.35,
          148.13,
          142.67,
          143.58,
          141.43,
          141.13,
          141.22,
          141.85,
          143.71,
          154.64,
          155.45,
          142.55,
          140.64,
          128.01,
          125.73,
          152.74,
          142.64,
          154.94,
          146.46,
          142.98,
          141.58,
          130.01,
          155.26,
          143.74,
          144.84,
          141.6,
          141.93,
          141.27,
          128.7,
          140.46,
          155.23,
          146.39,
          141.36,
          141.58,
          142.32,
          126.53,
          141,
          156.25,
          141.1,
          145.16,
          141.83,
          133.65,
          142.55,
          141.84,
          141.99,
          153.17,
          137.17,
          155.46,
          141.81,
          142.72,
          140.72,
          143.65,
          142.09,
          154.83,
          125.18,
          144.08,
          134.56,
          146.1,
          143.05,
          140.5,
          140.87,
          148.92,
          131.66,
          141.88,
          156.12,
          143.76,
          140.15,
          141.86,
          141.57,
          142.59,
          144.78,
          143.59,
          141.08,
          143.34,
          142.56,
          145.96,
          128.71,
          148.15,
          141.9,
          142.12,
          153.7,
          142.74,
          155.16,
          144.9,
          141.57,
          141.58,
          142.51,
          142.44,
          128.94,
          143.31,
          142.27,
          142.79,
          141.1,
          141.73,
          142.34,
          143.1,
          143.77,
          150.68,
          142.69,
          141.8,
          139.14,
          137.99,
          150.73,
          142.33,
          143.31,
          124.79,
          144.6,
          144.89,
          140.7,
          144.32,
          152.87,
          131.1,
          141.54,
          143.12,
          143.77,
          143.91,
          128.96,
          148.58,
          141.82,
          143.52,
          141.44,
          140.44,
          141.76,
          142.32,
          142.16,
          143.73,
          142.95,
          140.11,
          142.21,
          140.03,
          142.53,
          141.82,
          143.47,
          142.09,
          140.15,
          143.48,
          143.93,
          143.75,
          130.75,
          141.96,
          143.06,
          125.42,
          144.05,
          142.89,
          130.1,
          143.88,
          142.26,
          141.7,
          148.14,
          131.06,
          149.69,
          131.15,
          137.55,
          144.03,
          154.46,
          143.64,
          143.26,
          141.82,
          141,
          141.04,
          141.56,
          143.73,
          142.57,
          141.37,
          143.24,
          142.98,
          147.81,
          144.23,
          153.35,
          144.05,
          151.61,
          137.58,
          141.54,
          141.89,
          146.1,
          153.24,
          135.6,
          140.43,
          146.74,
          142.57,
          155.43,
          141.14,
          141.67,
          140.85,
          143.22,
          142.12,
          140.8,
          129.65,
          141.2,
          154.24,
          141.77,
          142.31,
          141.01,
          143.17,
          142.45,
          142.94,
          148.46,
          153,
          141.59,
          143.29,
          143.1,
          142.47,
          141.9,
          142.16,
          140.86,
          155.49,
          141.72,
          132.03,
          141.35,
          143.07,
          142.35,
          150.38,
          143.45,
          146.77,
          143.35,
          126.75,
          143.41,
          143.62,
          142.82,
          134.83,
          141.25,
          156.54,
          144.16,
          140.54,
          142.36,
          141.73,
          138.91,
          141.81,
          147.92,
          142.83,
          140.71,
          139.21,
          139.3,
          143.42,
          141.66,
          136.64,
          141.74,
          145,
          141.09,
          143.94,
          150.7,
          142.95,
          145.46,
          141.98,
          141.68,
          127.54,
          153.63,
          144.7,
          146.06,
          142.36,
          142.53,
          141.6,
          143.77,
          144.3,
          136.75,
          143.08,
          140.41,
          129.11,
          142.3,
          126.58,
          142.29,
          143.76,
          142.46,
          143.43,
          143.88,
          142.7,
          130.82,
          144.02,
          140.58,
          151.41,
          152.94,
          148.3,
          141.72,
          141.27,
          155.24,
          130.63,
          140.1,
          142.47,
          139.13,
          139.2,
          144.74,
          143.42,
          146.88,
          142.29,
          149.11,
          149.28,
          138.83,
          154.41,
          142.87,
          142.94,
          143.39,
          140.89,
          140.76,
          149.18,
          128.58,
          155.37,
          141.22,
          143.73,
          140.5,
          129.85,
          137.75,
          156.15,
          141.88,
          140.87,
          140.91,
          137.15,
          143,
          126.19,
          142.16,
          143.88,
          142.46,
          143.47,
          143.34,
          142.35,
          142.14,
          126.86,
          143.85,
          143.56,
          125.14,
          130.46,
          131.1,
          142.32,
          144.07,
          143.71,
          137,
          155.72,
          154.39,
          131.21,
          153.33,
          157.58,
          142.37,
          143,
          142.5,
          149.44,
          142.44,
          155.03,
          152.04,
          143.09,
          129.38
         ],
         "marker": {
          "color": "#636efa",
          "symbol": "circle"
         },
         "mode": "markers",
         "name": "",
         "showlegend": false,
         "type": "scattergeo"
        }
       ],
       "layout": {
        "autosize": true,
        "geo": {
         "center": {},
         "domain": {
          "x": [
           0,
           1
          ],
          "y": [
           0,
           1
          ]
         }
        },
        "legend": {
         "tracegroupgap": 0
        },
        "margin": {
         "t": 60
        },
        "template": {
         "data": {
          "bar": [
           {
            "error_x": {
             "color": "#2a3f5f"
            },
            "error_y": {
             "color": "#2a3f5f"
            },
            "marker": {
             "line": {
              "color": "#E5ECF6",
              "width": 0.5
             },
             "pattern": {
              "fillmode": "overlay",
              "size": 10,
              "solidity": 0.2
             }
            },
            "type": "bar"
           }
          ],
          "barpolar": [
           {
            "marker": {
             "line": {
              "color": "#E5ECF6",
              "width": 0.5
             },
             "pattern": {
              "fillmode": "overlay",
              "size": 10,
              "solidity": 0.2
             }
            },
            "type": "barpolar"
           }
          ],
          "carpet": [
           {
            "aaxis": {
             "endlinecolor": "#2a3f5f",
             "gridcolor": "white",
             "linecolor": "white",
             "minorgridcolor": "white",
             "startlinecolor": "#2a3f5f"
            },
            "baxis": {
             "endlinecolor": "#2a3f5f",
             "gridcolor": "white",
             "linecolor": "white",
             "minorgridcolor": "white",
             "startlinecolor": "#2a3f5f"
            },
            "type": "carpet"
           }
          ],
          "choropleth": [
           {
            "colorbar": {
             "outlinewidth": 0,
             "ticks": ""
            },
            "type": "choropleth"
           }
          ],
          "contour": [
           {
            "colorbar": {
             "outlinewidth": 0,
             "ticks": ""
            },
            "colorscale": [
             [
              0,
              "#0d0887"
             ],
             [
              0.1111111111111111,
              "#46039f"
             ],
             [
              0.2222222222222222,
              "#7201a8"
             ],
             [
              0.3333333333333333,
              "#9c179e"
             ],
             [
              0.4444444444444444,
              "#bd3786"
             ],
             [
              0.5555555555555556,
              "#d8576b"
             ],
             [
              0.6666666666666666,
              "#ed7953"
             ],
             [
              0.7777777777777778,
              "#fb9f3a"
             ],
             [
              0.8888888888888888,
              "#fdca26"
             ],
             [
              1,
              "#f0f921"
             ]
            ],
            "type": "contour"
           }
          ],
          "contourcarpet": [
           {
            "colorbar": {
             "outlinewidth": 0,
             "ticks": ""
            },
            "type": "contourcarpet"
           }
          ],
          "heatmap": [
           {
            "colorbar": {
             "outlinewidth": 0,
             "ticks": ""
            },
            "colorscale": [
             [
              0,
              "#0d0887"
             ],
             [
              0.1111111111111111,
              "#46039f"
             ],
             [
              0.2222222222222222,
              "#7201a8"
             ],
             [
              0.3333333333333333,
              "#9c179e"
             ],
             [
              0.4444444444444444,
              "#bd3786"
             ],
             [
              0.5555555555555556,
              "#d8576b"
             ],
             [
              0.6666666666666666,
              "#ed7953"
             ],
             [
              0.7777777777777778,
              "#fb9f3a"
             ],
             [
              0.8888888888888888,
              "#fdca26"
             ],
             [
              1,
              "#f0f921"
             ]
            ],
            "type": "heatmap"
           }
          ],
          "heatmapgl": [
           {
            "colorbar": {
             "outlinewidth": 0,
             "ticks": ""
            },
            "colorscale": [
             [
              0,
              "#0d0887"
             ],
             [
              0.1111111111111111,
              "#46039f"
             ],
             [
              0.2222222222222222,
              "#7201a8"
             ],
             [
              0.3333333333333333,
              "#9c179e"
             ],
             [
              0.4444444444444444,
              "#bd3786"
             ],
             [
              0.5555555555555556,
              "#d8576b"
             ],
             [
              0.6666666666666666,
              "#ed7953"
             ],
             [
              0.7777777777777778,
              "#fb9f3a"
             ],
             [
              0.8888888888888888,
              "#fdca26"
             ],
             [
              1,
              "#f0f921"
             ]
            ],
            "type": "heatmapgl"
           }
          ],
          "histogram": [
           {
            "marker": {
             "pattern": {
              "fillmode": "overlay",
              "size": 10,
              "solidity": 0.2
             }
            },
            "type": "histogram"
           }
          ],
          "histogram2d": [
           {
            "colorbar": {
             "outlinewidth": 0,
             "ticks": ""
            },
            "colorscale": [
             [
              0,
              "#0d0887"
             ],
             [
              0.1111111111111111,
              "#46039f"
             ],
             [
              0.2222222222222222,
              "#7201a8"
             ],
             [
              0.3333333333333333,
              "#9c179e"
             ],
             [
              0.4444444444444444,
              "#bd3786"
             ],
             [
              0.5555555555555556,
              "#d8576b"
             ],
             [
              0.6666666666666666,
              "#ed7953"
             ],
             [
              0.7777777777777778,
              "#fb9f3a"
             ],
             [
              0.8888888888888888,
              "#fdca26"
             ],
             [
              1,
              "#f0f921"
             ]
            ],
            "type": "histogram2d"
           }
          ],
          "histogram2dcontour": [
           {
            "colorbar": {
             "outlinewidth": 0,
             "ticks": ""
            },
            "colorscale": [
             [
              0,
              "#0d0887"
             ],
             [
              0.1111111111111111,
              "#46039f"
             ],
             [
              0.2222222222222222,
              "#7201a8"
             ],
             [
              0.3333333333333333,
              "#9c179e"
             ],
             [
              0.4444444444444444,
              "#bd3786"
             ],
             [
              0.5555555555555556,
              "#d8576b"
             ],
             [
              0.6666666666666666,
              "#ed7953"
             ],
             [
              0.7777777777777778,
              "#fb9f3a"
             ],
             [
              0.8888888888888888,
              "#fdca26"
             ],
             [
              1,
              "#f0f921"
             ]
            ],
            "type": "histogram2dcontour"
           }
          ],
          "mesh3d": [
           {
            "colorbar": {
             "outlinewidth": 0,
             "ticks": ""
            },
            "type": "mesh3d"
           }
          ],
          "parcoords": [
           {
            "line": {
             "colorbar": {
              "outlinewidth": 0,
              "ticks": ""
             }
            },
            "type": "parcoords"
           }
          ],
          "pie": [
           {
            "automargin": true,
            "type": "pie"
           }
          ],
          "scatter": [
           {
            "fillpattern": {
             "fillmode": "overlay",
             "size": 10,
             "solidity": 0.2
            },
            "type": "scatter"
           }
          ],
          "scatter3d": [
           {
            "line": {
             "colorbar": {
              "outlinewidth": 0,
              "ticks": ""
             }
            },
            "marker": {
             "colorbar": {
              "outlinewidth": 0,
              "ticks": ""
             }
            },
            "type": "scatter3d"
           }
          ],
          "scattercarpet": [
           {
            "marker": {
             "colorbar": {
              "outlinewidth": 0,
              "ticks": ""
             }
            },
            "type": "scattercarpet"
           }
          ],
          "scattergeo": [
           {
            "marker": {
             "colorbar": {
              "outlinewidth": 0,
              "ticks": ""
             }
            },
            "type": "scattergeo"
           }
          ],
          "scattergl": [
           {
            "marker": {
             "colorbar": {
              "outlinewidth": 0,
              "ticks": ""
             }
            },
            "type": "scattergl"
           }
          ],
          "scattermapbox": [
           {
            "marker": {
             "colorbar": {
              "outlinewidth": 0,
              "ticks": ""
             }
            },
            "type": "scattermapbox"
           }
          ],
          "scatterpolar": [
           {
            "marker": {
             "colorbar": {
              "outlinewidth": 0,
              "ticks": ""
             }
            },
            "type": "scatterpolar"
           }
          ],
          "scatterpolargl": [
           {
            "marker": {
             "colorbar": {
              "outlinewidth": 0,
              "ticks": ""
             }
            },
            "type": "scatterpolargl"
           }
          ],
          "scatterternary": [
           {
            "marker": {
             "colorbar": {
              "outlinewidth": 0,
              "ticks": ""
             }
            },
            "type": "scatterternary"
           }
          ],
          "surface": [
           {
            "colorbar": {
             "outlinewidth": 0,
             "ticks": ""
            },
            "colorscale": [
             [
              0,
              "#0d0887"
             ],
             [
              0.1111111111111111,
              "#46039f"
             ],
             [
              0.2222222222222222,
              "#7201a8"
             ],
             [
              0.3333333333333333,
              "#9c179e"
             ],
             [
              0.4444444444444444,
              "#bd3786"
             ],
             [
              0.5555555555555556,
              "#d8576b"
             ],
             [
              0.6666666666666666,
              "#ed7953"
             ],
             [
              0.7777777777777778,
              "#fb9f3a"
             ],
             [
              0.8888888888888888,
              "#fdca26"
             ],
             [
              1,
              "#f0f921"
             ]
            ],
            "type": "surface"
           }
          ],
          "table": [
           {
            "cells": {
             "fill": {
              "color": "#EBF0F8"
             },
             "line": {
              "color": "white"
             }
            },
            "header": {
             "fill": {
              "color": "#C8D4E3"
             },
             "line": {
              "color": "white"
             }
            },
            "type": "table"
           }
          ]
         },
         "layout": {
          "annotationdefaults": {
           "arrowcolor": "#2a3f5f",
           "arrowhead": 0,
           "arrowwidth": 1
          },
          "autotypenumbers": "strict",
          "coloraxis": {
           "colorbar": {
            "outlinewidth": 0,
            "ticks": ""
           }
          },
          "colorscale": {
           "diverging": [
            [
             0,
             "#8e0152"
            ],
            [
             0.1,
             "#c51b7d"
            ],
            [
             0.2,
             "#de77ae"
            ],
            [
             0.3,
             "#f1b6da"
            ],
            [
             0.4,
             "#fde0ef"
            ],
            [
             0.5,
             "#f7f7f7"
            ],
            [
             0.6,
             "#e6f5d0"
            ],
            [
             0.7,
             "#b8e186"
            ],
            [
             0.8,
             "#7fbc41"
            ],
            [
             0.9,
             "#4d9221"
            ],
            [
             1,
             "#276419"
            ]
           ],
           "sequential": [
            [
             0,
             "#0d0887"
            ],
            [
             0.1111111111111111,
             "#46039f"
            ],
            [
             0.2222222222222222,
             "#7201a8"
            ],
            [
             0.3333333333333333,
             "#9c179e"
            ],
            [
             0.4444444444444444,
             "#bd3786"
            ],
            [
             0.5555555555555556,
             "#d8576b"
            ],
            [
             0.6666666666666666,
             "#ed7953"
            ],
            [
             0.7777777777777778,
             "#fb9f3a"
            ],
            [
             0.8888888888888888,
             "#fdca26"
            ],
            [
             1,
             "#f0f921"
            ]
           ],
           "sequentialminus": [
            [
             0,
             "#0d0887"
            ],
            [
             0.1111111111111111,
             "#46039f"
            ],
            [
             0.2222222222222222,
             "#7201a8"
            ],
            [
             0.3333333333333333,
             "#9c179e"
            ],
            [
             0.4444444444444444,
             "#bd3786"
            ],
            [
             0.5555555555555556,
             "#d8576b"
            ],
            [
             0.6666666666666666,
             "#ed7953"
            ],
            [
             0.7777777777777778,
             "#fb9f3a"
            ],
            [
             0.8888888888888888,
             "#fdca26"
            ],
            [
             1,
             "#f0f921"
            ]
           ]
          },
          "colorway": [
           "#636efa",
           "#EF553B",
           "#00cc96",
           "#ab63fa",
           "#FFA15A",
           "#19d3f3",
           "#FF6692",
           "#B6E880",
           "#FF97FF",
           "#FECB52"
          ],
          "font": {
           "color": "#2a3f5f"
          },
          "geo": {
           "bgcolor": "white",
           "lakecolor": "white",
           "landcolor": "#E5ECF6",
           "showlakes": true,
           "showland": true,
           "subunitcolor": "white"
          },
          "hoverlabel": {
           "align": "left"
          },
          "hovermode": "closest",
          "mapbox": {
           "style": "light"
          },
          "paper_bgcolor": "white",
          "plot_bgcolor": "#E5ECF6",
          "polar": {
           "angularaxis": {
            "gridcolor": "white",
            "linecolor": "white",
            "ticks": ""
           },
           "bgcolor": "#E5ECF6",
           "radialaxis": {
            "gridcolor": "white",
            "linecolor": "white",
            "ticks": ""
           }
          },
          "scene": {
           "xaxis": {
            "backgroundcolor": "#E5ECF6",
            "gridcolor": "white",
            "gridwidth": 2,
            "linecolor": "white",
            "showbackground": true,
            "ticks": "",
            "zerolinecolor": "white"
           },
           "yaxis": {
            "backgroundcolor": "#E5ECF6",
            "gridcolor": "white",
            "gridwidth": 2,
            "linecolor": "white",
            "showbackground": true,
            "ticks": "",
            "zerolinecolor": "white"
           },
           "zaxis": {
            "backgroundcolor": "#E5ECF6",
            "gridcolor": "white",
            "gridwidth": 2,
            "linecolor": "white",
            "showbackground": true,
            "ticks": "",
            "zerolinecolor": "white"
           }
          },
          "shapedefaults": {
           "line": {
            "color": "#2a3f5f"
           }
          },
          "ternary": {
           "aaxis": {
            "gridcolor": "white",
            "linecolor": "white",
            "ticks": ""
           },
           "baxis": {
            "gridcolor": "white",
            "linecolor": "white",
            "ticks": ""
           },
           "bgcolor": "#E5ECF6",
           "caxis": {
            "gridcolor": "white",
            "linecolor": "white",
            "ticks": ""
           }
          },
          "title": {
           "x": 0.05
          },
          "xaxis": {
           "automargin": true,
           "gridcolor": "white",
           "linecolor": "white",
           "ticks": "",
           "title": {
            "standoff": 15
           },
           "zerolinecolor": "white",
           "zerolinewidth": 2
          },
          "yaxis": {
           "automargin": true,
           "gridcolor": "white",
           "linecolor": "white",
           "ticks": "",
           "title": {
            "standoff": 15
           },
           "zerolinecolor": "white",
           "zerolinewidth": 2
          }
         }
        }
       }
      },
      "text/html": [
       "<div>                            <div id=\"c8b7b310-836c-4556-aa0e-36e2dff5209b\" class=\"plotly-graph-div\" style=\"height:525px; width:100%;\"></div>            <script type=\"text/javascript\">                require([\"plotly\"], function(Plotly) {                    window.PLOTLYENV=window.PLOTLYENV || {};                                    if (document.getElementById(\"c8b7b310-836c-4556-aa0e-36e2dff5209b\")) {                    Plotly.newPlot(                        \"c8b7b310-836c-4556-aa0e-36e2dff5209b\",                        [{\"customdata\":[[4.7],[4.9],[5.3],[6.0],[5.3],[4.7],[4.5],[5.3],[5.1],[5.1],[4.7],[5.2],[5.4],[4.5],[4.7],[4.6],[4.5],[4.8],[4.5],[4.5],[4.5],[5.4],[4.8],[4.7],[4.6],[4.5],[4.9],[5.5],[5.3],[4.5],[5.1],[5.8],[4.5],[5.1],[4.7],[4.7],[4.8],[4.5],[4.8],[4.7],[4.9],[4.6],[4.9],[4.7],[5.0],[5.0],[4.5],[5.6],[5.6],[4.5],[4.6],[4.6],[5.2],[4.7],[4.9],[6.1],[4.6],[4.5],[4.7],[4.9],[4.6],[4.8],[4.6],[5.0],[4.7],[4.5],[4.5],[4.5],[4.8],[4.9],[4.8],[4.6],[4.7],[5.0],[4.6],[4.9],[4.9],[5.0],[4.8],[4.5],[4.7],[5.5],[4.6],[4.5],[4.7],[4.8],[4.6],[4.6],[4.5],[5.0],[4.7],[4.5],[4.9],[4.8],[4.6],[4.7],[4.8],[4.7],[4.5],[4.6],[4.6],[6.0],[4.6],[4.7],[4.8],[4.7],[4.7],[4.6],[4.7],[5.0],[4.6],[4.7],[4.8],[4.6],[4.5],[4.6],[4.6],[5.1],[4.7],[5.0],[4.6],[4.6],[4.5],[4.8],[4.6],[4.5],[4.8],[4.9],[4.7],[4.6],[4.6],[4.6],[4.5],[4.8],[4.8],[4.7],[4.5],[4.9],[5.0],[4.8],[4.6],[5.0],[4.8],[4.5],[4.6],[4.5],[5.4],[4.5],[5.1],[4.6],[4.9],[4.9],[4.7],[4.9],[4.7],[4.9],[4.7],[4.7],[4.6],[4.5],[4.5],[4.5],[5.7],[4.8],[4.8],[5.4],[4.5],[4.5],[4.8],[4.5],[4.5],[4.6],[4.8],[4.7],[4.8],[4.5],[4.5],[4.5],[4.6],[4.6],[5.6],[4.8],[5.6],[4.9],[4.8],[4.6],[4.8],[5.9],[4.7],[4.8],[4.9],[5.0],[4.7],[4.7],[4.6],[4.7],[4.5],[4.6],[4.9],[4.8],[4.6],[4.7],[4.7],[4.9],[5.0],[5.3],[4.7],[5.1],[4.5],[4.6],[4.6],[4.8],[4.7],[4.9],[5.0],[5.5],[4.8],[6.1],[5.6],[4.6],[4.8],[4.5],[4.8],[4.9],[4.9],[5.2],[4.5],[6.0],[7.3],[4.6],[5.4],[4.7],[4.7],[4.8],[4.8],[4.7],[5.3],[4.8],[5.1],[5.0],[4.7],[5.1],[5.5],[4.5],[5.5],[4.5],[4.5],[4.6],[4.6],[4.5],[4.8],[4.8],[4.5],[4.6],[4.5],[4.6],[4.5],[4.9],[4.8],[4.5],[4.9],[4.6],[4.6],[5.9],[4.7],[4.8],[5.3],[5.1],[4.9],[5.1],[4.7],[5.3],[4.5],[4.9],[4.5],[4.6],[4.6],[4.5],[4.6],[5.8],[4.9],[4.9],[6.0],[4.5],[5.0],[6.2],[4.6],[4.6],[4.9],[4.8],[4.6],[4.6],[4.6],[5.0],[4.8],[4.6],[4.6],[5.2],[4.7],[4.5],[6.0],[4.6],[4.9],[4.8],[4.9],[4.5],[4.5],[4.7],[4.5],[4.7],[4.5],[4.5],[4.8],[4.7],[4.6],[4.9],[4.7],[4.5],[4.5],[5.0],[4.8],[4.7],[4.7],[4.7],[4.5],[4.7],[4.7],[4.6],[4.8],[5.3],[4.7],[4.6],[5.3],[5.6],[4.9],[5.5],[5.2],[4.7],[4.8],[4.8],[4.7],[4.7],[4.7],[5.0],[4.6],[5.4],[5.1],[4.7],[4.6],[5.5],[4.6],[5.2],[5.0],[4.6],[5.9],[4.9],[4.6],[4.5],[4.5],[4.5],[5.4],[4.5],[4.9],[5.2],[6.6],[4.7],[4.8],[4.8],[4.5],[5.4],[4.6],[4.5],[4.5],[4.8],[4.8],[4.9],[5.2],[4.7],[4.9],[5.0],[4.7],[4.6],[4.6],[4.5],[4.5],[5.8],[4.6],[4.9],[4.5],[4.5],[4.7],[5.0],[5.4],[4.8],[5.1],[5.4],[4.7],[4.7],[4.7],[4.6],[4.5],[4.9],[4.5],[4.5],[4.5],[5.2],[4.8],[4.5],[4.5],[5.0],[4.6],[4.5],[4.5],[5.1],[4.5],[5.6],[5.0],[4.5],[5.5],[6.7],[5.0],[4.7],[4.7],[4.8],[4.6],[5.2],[4.7],[4.7],[4.8],[4.9],[4.7],[5.4],[4.5],[4.8],[4.5],[4.6],[4.8],[4.5],[5.3],[4.8],[4.8],[5.0],[4.6],[4.7],[4.6],[4.9],[4.7],[4.5],[5.2],[4.5],[4.7],[4.6],[4.7],[4.5],[5.2],[4.7],[4.9],[4.5],[4.7],[4.7],[4.5],[5.0],[4.9],[6.1],[4.6],[4.7],[5.2],[4.7],[4.5],[4.8],[5.1],[4.7],[5.0],[5.0],[4.8],[4.9],[4.5],[4.7],[4.5],[4.5],[4.6],[5.1],[5.7],[5.8],[4.8],[4.5],[5.5],[4.5],[4.7],[4.5],[4.8],[5.6],[4.6],[4.7],[5.1],[5.0],[4.6],[4.7],[4.6],[5.0],[4.6],[5.4],[4.6],[4.6],[4.5],[4.8],[5.1],[4.5],[4.9],[4.9],[4.6],[5.0],[4.7],[5.8],[5.1],[5.0],[4.5],[4.9],[4.9],[4.6],[5.4],[4.8],[4.7],[4.6],[4.8],[5.0],[4.6],[4.7],[4.8],[4.6],[4.7],[4.6],[4.6],[4.7],[4.6],[5.0],[4.6],[4.6],[4.7],[4.6],[4.8],[4.5],[4.6],[4.9],[4.8],[4.8],[4.7],[4.5],[4.9],[4.5],[4.8],[4.6],[4.8],[4.5],[5.0],[4.8],[4.6],[5.2],[4.9],[4.6],[4.9],[4.6],[4.5],[4.7],[4.5],[4.6],[5.5],[5.3],[4.8],[5.4],[4.8],[4.6],[4.6],[4.5],[4.6],[4.7],[4.7],[4.6],[5.0],[5.0],[4.7],[5.7],[4.6],[5.7],[4.7],[4.8],[4.6],[5.1],[4.6],[4.6],[6.0],[4.9],[4.5],[5.2],[4.5],[4.9],[5.0],[4.5],[4.5],[4.7],[6.8],[4.6],[4.8],[4.9],[4.8],[4.7],[5.0],[5.9],[4.8],[4.8],[4.5],[4.8],[5.9],[4.5],[4.7],[4.9],[4.9],[4.7],[4.5],[5.6],[4.8],[4.5],[4.5],[4.6],[4.6],[5.1],[4.6],[4.7],[4.9],[6.6],[4.5],[4.6],[4.5],[5.1],[4.5],[4.9],[4.6],[4.9],[4.6],[4.8],[4.6],[4.5],[4.8],[4.5],[4.5],[5.1],[4.7],[4.6],[4.7],[4.6],[4.6],[4.7],[4.7],[4.7],[4.8],[4.7],[4.9],[4.6],[4.9],[4.8],[5.5],[4.9],[4.6],[5.3],[4.6],[4.5],[4.8],[4.6],[4.6],[4.8],[4.5],[4.6],[5.6],[5.5],[4.5],[4.6],[4.5],[4.6],[4.7],[4.8],[4.8],[4.6],[4.9],[4.5],[4.9],[5.9],[5.1],[4.9],[4.6],[4.9],[4.6],[4.6],[5.0],[4.7],[4.8],[4.6],[4.6],[5.5],[4.8],[4.5],[5.4],[4.5],[5.3],[4.5],[5.5],[4.6],[5.4],[4.6],[4.7],[4.8],[4.7],[4.5],[5.3],[4.5],[4.9],[4.8],[4.8],[5.9],[4.9],[5.0],[4.5],[4.7],[4.6],[5.9],[4.5],[4.5],[4.8],[5.4],[4.6],[4.6],[4.8],[5.3],[4.6],[4.7],[4.8],[4.5],[4.7],[4.8],[4.7],[5.6],[4.6],[5.0],[4.9],[4.5],[4.5],[4.6],[5.2],[5.0],[4.6],[5.4],[4.7],[4.9],[4.5],[5.6],[5.1],[4.5],[5.7],[4.5],[4.7],[4.7],[4.9],[4.9],[4.5],[4.9],[4.8],[5.2],[4.5],[4.6],[4.6],[4.7],[4.7],[4.6],[4.5],[4.5],[5.0],[4.6],[6.1],[5.1],[5.3],[4.5],[4.9],[4.5],[4.5],[4.8],[4.8],[4.7],[4.6],[5.2],[4.6],[4.5],[4.5],[4.7],[4.9],[4.8],[5.3],[5.2],[4.5],[5.2],[4.5],[7.0],[4.7],[4.6],[5.5],[4.5],[4.5],[4.6],[4.8],[4.6],[4.6],[4.8],[4.5],[4.5],[5.0],[5.1],[4.7],[5.4],[4.5],[4.5],[5.1],[4.6],[4.8],[4.5],[4.5],[4.8],[4.8],[4.8],[4.8],[4.8],[4.5],[4.8],[5.5],[4.6],[4.7],[4.5],[4.5],[4.6],[5.2],[4.6],[4.8],[4.8],[4.8],[4.7],[4.7],[4.6],[4.5],[4.9],[4.9],[4.6],[4.5],[4.6],[4.6],[5.5],[4.7],[4.7],[5.3],[4.8],[4.8],[4.5],[5.1],[4.9],[4.6],[4.7],[5.1],[4.6],[5.1],[4.9],[5.1],[5.1],[4.9],[4.7],[4.5],[4.5],[4.9],[4.9],[5.5],[4.6],[5.2],[5.0],[4.6],[4.9],[5.8],[4.7],[4.5],[4.8],[4.6],[4.8],[4.6],[4.6],[4.5],[4.7],[4.6],[4.5],[4.6],[4.8],[4.9],[5.3],[4.7],[4.9],[4.5],[4.8],[4.8],[4.8],[4.6],[4.5],[4.6],[5.6],[4.5],[4.5],[5.1],[5.2],[4.7],[4.5],[4.6],[5.4],[4.6],[4.6],[4.5],[4.7],[4.9],[4.8],[4.5],[4.7],[5.2],[4.7],[5.1],[5.3],[5.3],[5.4],[4.9],[4.6],[5.0],[4.5],[4.7],[5.8],[4.5],[4.9],[4.5],[4.5],[4.7],[4.6],[4.7],[5.3],[4.7],[4.6],[4.6],[4.5],[4.7],[6.5],[5.3],[4.5],[4.6],[4.6],[4.8],[4.9],[4.8],[5.4],[4.5],[4.8],[4.8],[4.5],[5.1],[5.9],[4.9],[5.1],[4.6],[4.8],[4.8],[4.6],[5.0],[5.2],[4.8],[5.2],[4.6],[4.5],[4.9],[4.7],[4.7],[4.6],[4.7],[4.9],[4.7],[4.6],[5.9],[4.5],[4.6],[4.5],[4.5],[4.6],[5.9],[4.8],[4.6],[6.3],[4.7],[4.9],[4.6],[4.7],[4.6],[5.7],[6.9],[4.8]],\"geo\":\"geo\",\"hovertemplate\":\"latitude=%{lat}\\u003cbr\\u003elongitude=%{lon}\\u003cbr\\u003emag=%{customdata[0]}\\u003cextra\\u003e\\u003c\\u002fextra\\u003e\",\"lat\":[27.76,37.48,36.33,37.28,30.0,45.68,47.78,46.68,33.42,25.64,38.56,42.59,34.33,46.42,37.5,32.14,35.03,46.52,38.1,46.1,36.1,25.87,37.29,31.94,38.01,46.9,41.47,45.45,37.26,30.93,35.13,38.59,31.38,38.86,48.4,44.18,46.79,26.22,28.4,30.79,26.38,26.49,37.71,46.79,28.18,25.97,30.5,37.78,35.7,35.94,28.37,43.88,40.16,44.41,37.51,30.5,38.37,36.49,29.28,28.24,44.14,40.18,46.22,45.56,47.32,26.3,26.81,35.86,37.14,36.42,41.97,26.62,27.63,45.98,43.11,36.58,44.45,35.3,40.82,35.73,39.5,41.47,35.21,37.56,25.5,39.94,36.68,26.76,37.0,49.37,34.82,33.58,33.84,37.79,38.25,25.41,26.05,31.14,33.57,46.22,26.86,46.36,45.34,37.4,38.86,39.84,33.76,47.68,47.57,31.45,38.25,36.17,38.92,46.61,31.92,35.6,36.43,37.65,33.42,40.93,47.33,46.73,29.21,37.7,30.83,43.11,35.06,37.89,46.33,28.06,46.81,49.18,39.96,36.68,33.45,48.28,44.64,43.4,49.27,37.75,44.35,43.26,26.91,44.28,39.13,47.04,38.5,46.68,39.67,35.27,36.86,38.87,42.57,38.64,39.88,44.23,40.97,37.75,42.04,46.18,38.02,25.39,36.7,41.15,39.29,47.24,38.72,24.3,40.21,44.3,41.62,26.93,39.51,38.08,36.23,38.86,35.42,45.05,36.16,46.56,49.7,44.27,26.53,47.16,37.16,39.48,46.44,26.12,38.74,37.98,47.24,47.5,36.48,28.81,37.22,33.98,42.21,39.08,35.86,35.84,47.44,28.27,46.29,27.0,40.09,45.93,44.52,42.2,38.22,44.63,46.69,24.66,39.09,50.58,40.17,25.68,26.99,24.23,42.73,33.85,36.64,44.91,46.69,28.8,44.25,39.7,36.42,39.53,47.82,47.73,37.07,39.93,47.56,26.98,26.34,36.72,37.32,37.29,43.75,25.64,47.32,36.98,35.5,27.92,30.05,35.45,33.28,28.7,41.06,39.76,35.78,36.57,37.16,34.79,30.46,38.17,42.88,32.01,46.31,46.92,46.38,25.72,34.47,27.56,35.18,27.03,33.26,44.25,28.84,37.3,34.75,43.09,25.95,46.08,26.73,39.34,29.19,26.73,36.42,37.01,46.66,37.0,27.53,37.55,46.37,35.42,36.42,37.56,38.72,37.73,37.83,38.14,37.23,36.4,44.98,38.86,45.28,27.2,42.16,36.12,34.91,40.75,44.59,36.25,31.16,50.18,32.01,29.26,48.23,44.56,36.74,41.99,47.02,38.89,29.51,33.72,35.98,37.39,38.38,43.33,36.64,37.25,30.37,32.74,36.53,26.66,35.74,28.0,36.97,34.47,38.97,27.34,36.59,36.15,38.55,49.2,40.39,26.89,46.39,27.02,43.99,34.24,46.96,37.73,38.01,37.84,45.45,44.22,48.19,33.01,47.17,36.84,46.48,39.39,30.51,38.12,42.04,38.23,27.23,27.13,41.75,36.07,37.53,37.09,32.82,37.11,36.29,37.4,35.88,33.2,44.43,27.63,36.76,36.43,47.58,37.49,38.53,46.94,38.09,43.15,40.15,29.77,33.39,24.8,46.18,39.08,29.95,37.28,33.01,26.57,36.01,35.81,39.03,38.39,27.08,46.92,45.89,45.76,32.6,33.18,44.48,39.07,29.29,29.35,35.98,36.02,37.13,29.4,42.55,49.01,28.3,36.98,36.85,27.34,29.6,46.43,36.55,27.21,37.68,40.27,31.43,42.56,43.71,32.66,39.02,40.12,28.0,28.59,38.38,26.98,27.16,39.55,37.09,27.81,39.15,35.48,46.69,48.68,46.71,42.2,46.77,50.07,37.15,46.58,44.68,38.22,37.02,38.91,42.64,37.48,39.65,29.42,36.53,46.97,37.25,46.23,44.36,43.89,26.81,37.66,38.32,36.05,43.77,39.81,41.05,41.6,41.12,36.59,37.53,37.96,39.2,48.15,26.62,42.54,49.95,26.63,36.58,30.08,35.38,47.64,35.12,26.74,48.92,38.96,37.41,26.8,46.86,43.05,31.52,31.91,49.25,37.42,37.56,24.68,42.97,27.65,36.44,35.42,47.2,35.64,37.61,44.55,39.83,45.58,27.57,30.71,39.39,32.95,36.18,48.37,32.1,38.19,38.88,41.92,36.77,35.91,39.1,36.81,44.17,36.82,46.17,27.14,37.22,41.96,36.15,39.19,37.83,36.57,37.24,36.96,26.76,49.4,37.09,34.95,35.6,39.15,46.92,36.02,41.38,46.95,46.44,29.48,39.93,41.52,43.04,26.76,37.82,47.06,33.26,36.07,34.21,35.58,43.0,24.12,36.83,33.6,46.46,36.76,45.36,36.66,27.13,28.14,36.29,31.35,31.41,44.78,42.67,31.77,33.28,39.61,31.39,46.81,31.29,45.82,46.49,49.22,25.74,38.7,36.64,40.18,46.77,43.92,34.4,35.26,36.05,37.75,45.09,36.33,29.13,41.08,35.71,39.36,39.92,43.55,30.11,37.3,37.7,36.51,36.66,46.55,39.8,33.28,45.86,42.84,41.62,35.9,26.6,38.48,36.75,26.74,28.1,30.02,35.95,36.29,39.78,26.45,46.74,33.55,45.46,48.26,36.59,26.97,39.82,36.66,26.39,37.0,41.54,43.31,26.84,33.2,36.26,30.84,27.09,46.22,36.08,37.53,28.09,33.2,41.98,37.87,47.21,44.47,46.12,42.56,37.75,27.92,25.44,28.8,27.47,47.18,26.27,37.84,36.91,44.45,25.49,28.62,34.54,39.67,44.26,45.85,37.26,38.56,44.53,37.3,27.13,35.07,44.7,37.16,34.28,36.77,48.35,46.67,38.79,37.06,25.21,26.61,46.73,38.25,48.2,36.63,42.32,38.55,32.02,47.16,28.75,42.32,35.75,35.51,36.73,26.01,28.7,46.86,43.01,37.3,34.6,26.3,25.23,38.43,49.26,25.74,41.88,32.1,35.26,40.02,36.16,38.28,48.28,36.28,48.56,35.97,25.4,26.76,40.33,29.19,46.53,23.91,38.3,37.38,43.12,38.27,35.63,36.6,45.15,40.86,28.16,49.25,27.0,31.46,38.62,37.93,39.25,37.91,39.65,35.14,39.62,36.81,42.88,26.06,44.52,39.37,38.74,46.63,27.64,46.62,42.36,38.21,37.56,29.23,36.88,26.62,36.86,38.96,30.45,35.15,45.87,39.79,38.25,37.07,46.01,39.54,36.25,34.44,30.58,46.12,38.18,27.04,24.64,38.31,40.8,35.64,38.83,46.48,28.01,26.73,26.78,39.47,37.28,31.37,44.18,38.29,39.57,35.88,31.65,37.74,40.2,36.69,37.45,42.5,35.58,29.06,35.47,25.47,37.79,35.68,39.2,35.26,36.35,38.67,37.83,32.79,36.67,37.65,23.9,37.1,27.97,27.56,37.65,38.41,36.21,44.26,32.41,44.62,30.07,34.55,37.86,46.09,26.99,37.27,41.48,35.29,30.61,34.1,37.58,41.96,37.14,39.65,36.56,43.33,37.22,46.56,41.72,46.06,36.21,37.42,37.96,42.49,46.48,34.26,37.08,43.17,28.33,47.05,35.42,36.23,36.23,39.66,47.31,36.44,46.56,37.08,46.06,40.59,39.15,32.64,38.31,37.26,35.45,44.63,46.72,34.23,37.71,40.99,45.88,36.21,36.95,35.68,46.7,38.64,30.74,36.64,35.39,38.91,44.73,35.0,43.43,26.88,26.88,39.57,37.7,40.88,34.37,35.72,47.97,37.99,36.63,29.67,34.46,35.51,38.18,45.37,37.48,35.67,34.02,33.03,27.06,31.68,33.54,35.6,40.72,36.74,38.09,45.28,28.04,45.06,30.49,36.11,27.06,47.26,37.23,43.05,38.88,29.83,42.49,42.01,39.21,33.05,40.93,34.88,35.74,38.75,25.5,38.75,37.74,33.22,27.22,37.74,38.47,32.74,37.17,36.76,45.74,46.37,44.59,37.68,37.51,47.86,29.48,35.39,29.29,36.51,28.02,42.08,39.63,44.48,37.19,44.77,44.16,29.94,46.3,36.51,27.58,39.08,36.13,35.88,44.21,28.75,46.98,35.32,26.98,36.74,26.97,31.71,49.16,37.38,25.63,39.09,33.92,39.79,25.52,38.5,36.26,36.56,27.17,36.8,37.24,36.3,27.18,26.7,39.94,24.8,31.29,30.06,36.54,23.67,26.11,36.12,49.26,46.13,28.32,46.51,48.65,39.7,29.01,36.57,44.05,42.68,46.83,45.52,42.77,29.18],\"legendgroup\":\"\",\"lon\":[127.64,144.06,141.1,138.88,131.13,151.52,153.8,155.04,140.63,125.1,144.31,142.05,141.61,153.23,141.16,137.68,142.3,153.18,142.08,152.35,141.1,124.92,140.93,141.62,142.6,154.92,141.99,150.68,140.99,141.18,141.12,142.88,127.33,142.53,154.75,149.78,152.34,126.05,142.61,131.36,128.45,129.59,143.78,155.07,142.87,128.32,142.04,142.98,140.98,141.76,142.55,149.25,141.69,147.93,141.45,142.05,144.46,141.46,142.77,143.49,149.63,142.39,152.95,142.22,142.6,125.86,143.94,139.85,142.43,141.69,144.75,129.78,143.06,153.83,146.39,141.06,149.18,140.51,142.24,141.14,143.83,142.03,141.16,141.68,142.65,143.51,137.92,143.68,140.48,155.68,142.89,141.75,135.32,143.14,141.83,124.45,128.52,130.35,136.76,154.4,143.99,154.47,149.99,142.15,142.11,139.92,134.4,147.06,154.09,138.49,142.18,141.57,142.53,154.93,132.08,140.73,140.87,143.77,140.84,143.23,142.77,152.87,130.37,143.39,131.39,145.61,139.28,144.91,152.98,142.96,152.68,155.68,142.34,141.79,136.03,154.77,149.36,146.78,156.2,142.4,148.9,144.53,143.31,149.37,143.5,153.99,141.98,149.75,141.08,141.02,143.93,144.74,141.8,144.75,143.35,149.11,141.73,143.7,144.18,153.11,139.57,140.98,142.24,142.35,143.49,153.77,144.43,124.85,143.93,148.02,141.98,143.71,143.57,142.6,141.88,141.7,140.15,147.02,142.01,153.4,154.64,149.37,128.89,154.04,143.74,143.53,153.12,144.01,142.12,143.77,142.59,154.21,142.55,140.52,138.73,136.81,144.44,142.38,141.4,140.81,152.81,142.43,152.88,126.83,142.68,154.34,148.01,144.94,141.91,148.11,147.4,127.99,142.49,157.31,142.39,125.24,143.78,125.1,145.3,141.68,143.2,149.62,153.68,128.71,147.48,141.94,142.49,143.17,146.21,153.82,140.79,143.83,155.22,143.83,143.86,142.34,141.08,143.71,146.01,126.35,152.1,142.82,140.76,142.55,142.43,141.78,130.75,128.56,142.4,142.11,139.53,141.8,143.0,135.61,132.4,144.76,142.74,141.8,154.24,152.74,152.99,140.84,141.55,139.78,141.39,143.28,142.32,149.1,130.67,143.16,141.13,145.68,124.78,154.48,143.76,142.03,130.68,143.69,138.8,142.41,152.86,142.54,128.33,143.7,151.07,140.57,143.36,142.87,142.15,143.64,143.52,142.91,144.77,140.88,147.18,141.45,150.39,127.28,142.89,141.62,139.42,144.96,141.29,141.79,131.42,157.08,129.04,130.43,153.25,149.3,143.74,142.6,153.46,142.4,138.81,130.21,141.85,143.76,142.23,146.11,144.55,142.97,132.46,140.5,141.83,129.82,140.61,128.42,144.28,141.83,141.24,143.24,141.1,141.6,141.68,156.28,143.85,143.71,153.11,143.58,147.99,139.15,152.67,143.57,143.56,141.4,150.83,148.6,152.75,131.16,155.52,141.25,153.3,143.36,141.96,143.5,139.85,143.28,143.58,129.84,144.02,143.4,138.03,143.47,140.4,140.63,142.59,142.15,141.02,137.35,148.12,142.07,141.18,141.61,155.71,142.86,144.25,152.66,144.12,147.0,143.88,142.13,141.89,128.05,153.66,142.08,131.19,141.54,136.72,143.79,139.51,140.98,140.85,143.34,143.43,152.74,154.23,153.47,140.86,136.95,145.6,143.18,143.24,141.31,140.28,141.79,140.84,130.81,144.17,156.17,141.36,142.51,141.95,141.32,141.08,152.98,141.68,143.48,143.31,142.78,140.86,142.22,147.6,130.69,142.46,142.6,139.18,141.01,145.0,143.62,143.62,143.04,143.58,140.53,141.77,141.02,154.73,142.47,152.48,142.86,152.95,156.78,140.84,152.7,141.96,143.25,140.44,141.88,143.18,141.41,142.07,130.48,141.78,152.88,141.56,151.95,148.5,147.08,143.79,141.94,143.59,141.61,147.22,143.1,142.0,141.92,142.19,141.6,143.82,143.0,142.32,154.67,129.12,142.18,157.14,126.66,138.48,140.95,141.2,152.78,141.05,129.5,154.92,142.4,141.49,141.6,153.73,147.71,143.05,132.02,156.08,142.45,143.65,125.19,145.64,143.35,140.59,140.84,154.14,142.03,144.67,150.61,141.34,149.01,141.37,141.92,143.53,140.39,141.58,154.64,139.56,143.16,141.55,144.36,140.32,139.97,143.49,141.07,149.38,140.98,153.15,143.3,141.66,142.24,141.81,143.26,144.1,143.59,144.16,140.79,144.12,156.33,142.22,141.29,140.05,143.52,152.72,142.11,141.18,149.53,153.4,132.16,143.6,143.32,146.89,129.62,144.06,155.35,142.34,141.88,141.62,141.06,131.04,127.25,141.02,141.28,153.0,140.31,153.98,142.08,143.42,139.72,142.46,141.75,141.6,149.8,141.35,141.7,139.26,142.57,141.88,155.15,141.88,151.96,149.81,156.23,144.93,142.33,141.88,142.39,153.14,147.27,136.19,132.55,140.16,145.05,149.53,142.74,130.4,142.26,140.88,141.78,143.62,146.72,130.99,141.19,143.94,141.98,143.71,154.85,141.46,139.16,153.62,130.48,144.21,141.31,129.56,141.63,143.6,144.08,129.4,131.18,141.34,141.71,141.8,142.53,155.66,141.24,151.79,154.38,142.08,143.48,143.55,142.33,128.89,141.12,142.05,146.26,143.48,137.23,141.31,141.93,143.4,152.14,141.78,143.58,143.01,140.97,134.15,138.24,153.94,149.05,154.53,144.23,144.54,139.84,142.55,129.92,139.92,153.98,126.86,144.01,141.37,148.08,124.58,128.37,141.58,143.42,148.47,153.94,139.88,143.35,148.13,142.67,143.58,141.43,141.13,141.22,141.85,143.71,154.64,155.45,142.55,140.64,128.01,125.73,152.74,142.64,154.94,146.46,142.98,141.58,130.01,155.26,143.74,144.84,141.6,141.93,141.27,128.7,140.46,155.23,146.39,141.36,141.58,142.32,126.53,141.0,156.25,141.1,145.16,141.83,133.65,142.55,141.84,141.99,153.17,137.17,155.46,141.81,142.72,140.72,143.65,142.09,154.83,125.18,144.08,134.56,146.1,143.05,140.5,140.87,148.92,131.66,141.88,156.12,143.76,140.15,141.86,141.57,142.59,144.78,143.59,141.08,143.34,142.56,145.96,128.71,148.15,141.9,142.12,153.7,142.74,155.16,144.9,141.57,141.58,142.51,142.44,128.94,143.31,142.27,142.79,141.1,141.73,142.34,143.1,143.77,150.68,142.69,141.8,139.14,137.99,150.73,142.33,143.31,124.79,144.6,144.89,140.7,144.32,152.87,131.1,141.54,143.12,143.77,143.91,128.96,148.58,141.82,143.52,141.44,140.44,141.76,142.32,142.16,143.73,142.95,140.11,142.21,140.03,142.53,141.82,143.47,142.09,140.15,143.48,143.93,143.75,130.75,141.96,143.06,125.42,144.05,142.89,130.1,143.88,142.26,141.7,148.14,131.06,149.69,131.15,137.55,144.03,154.46,143.64,143.26,141.82,141.0,141.04,141.56,143.73,142.57,141.37,143.24,142.98,147.81,144.23,153.35,144.05,151.61,137.58,141.54,141.89,146.1,153.24,135.6,140.43,146.74,142.57,155.43,141.14,141.67,140.85,143.22,142.12,140.8,129.65,141.2,154.24,141.77,142.31,141.01,143.17,142.45,142.94,148.46,153.0,141.59,143.29,143.1,142.47,141.9,142.16,140.86,155.49,141.72,132.03,141.35,143.07,142.35,150.38,143.45,146.77,143.35,126.75,143.41,143.62,142.82,134.83,141.25,156.54,144.16,140.54,142.36,141.73,138.91,141.81,147.92,142.83,140.71,139.21,139.3,143.42,141.66,136.64,141.74,145.0,141.09,143.94,150.7,142.95,145.46,141.98,141.68,127.54,153.63,144.7,146.06,142.36,142.53,141.6,143.77,144.3,136.75,143.08,140.41,129.11,142.3,126.58,142.29,143.76,142.46,143.43,143.88,142.7,130.82,144.02,140.58,151.41,152.94,148.3,141.72,141.27,155.24,130.63,140.1,142.47,139.13,139.2,144.74,143.42,146.88,142.29,149.11,149.28,138.83,154.41,142.87,142.94,143.39,140.89,140.76,149.18,128.58,155.37,141.22,143.73,140.5,129.85,137.75,156.15,141.88,140.87,140.91,137.15,143.0,126.19,142.16,143.88,142.46,143.47,143.34,142.35,142.14,126.86,143.85,143.56,125.14,130.46,131.1,142.32,144.07,143.71,137.0,155.72,154.39,131.21,153.33,157.58,142.37,143.0,142.5,149.44,142.44,155.03,152.04,143.09,129.38],\"marker\":{\"color\":\"#636efa\",\"symbol\":\"circle\"},\"mode\":\"markers\",\"name\":\"\",\"showlegend\":false,\"type\":\"scattergeo\"}],                        {\"template\":{\"data\":{\"histogram2dcontour\":[{\"type\":\"histogram2dcontour\",\"colorbar\":{\"outlinewidth\":0,\"ticks\":\"\"},\"colorscale\":[[0.0,\"#0d0887\"],[0.1111111111111111,\"#46039f\"],[0.2222222222222222,\"#7201a8\"],[0.3333333333333333,\"#9c179e\"],[0.4444444444444444,\"#bd3786\"],[0.5555555555555556,\"#d8576b\"],[0.6666666666666666,\"#ed7953\"],[0.7777777777777778,\"#fb9f3a\"],[0.8888888888888888,\"#fdca26\"],[1.0,\"#f0f921\"]]}],\"choropleth\":[{\"type\":\"choropleth\",\"colorbar\":{\"outlinewidth\":0,\"ticks\":\"\"}}],\"histogram2d\":[{\"type\":\"histogram2d\",\"colorbar\":{\"outlinewidth\":0,\"ticks\":\"\"},\"colorscale\":[[0.0,\"#0d0887\"],[0.1111111111111111,\"#46039f\"],[0.2222222222222222,\"#7201a8\"],[0.3333333333333333,\"#9c179e\"],[0.4444444444444444,\"#bd3786\"],[0.5555555555555556,\"#d8576b\"],[0.6666666666666666,\"#ed7953\"],[0.7777777777777778,\"#fb9f3a\"],[0.8888888888888888,\"#fdca26\"],[1.0,\"#f0f921\"]]}],\"heatmap\":[{\"type\":\"heatmap\",\"colorbar\":{\"outlinewidth\":0,\"ticks\":\"\"},\"colorscale\":[[0.0,\"#0d0887\"],[0.1111111111111111,\"#46039f\"],[0.2222222222222222,\"#7201a8\"],[0.3333333333333333,\"#9c179e\"],[0.4444444444444444,\"#bd3786\"],[0.5555555555555556,\"#d8576b\"],[0.6666666666666666,\"#ed7953\"],[0.7777777777777778,\"#fb9f3a\"],[0.8888888888888888,\"#fdca26\"],[1.0,\"#f0f921\"]]}],\"heatmapgl\":[{\"type\":\"heatmapgl\",\"colorbar\":{\"outlinewidth\":0,\"ticks\":\"\"},\"colorscale\":[[0.0,\"#0d0887\"],[0.1111111111111111,\"#46039f\"],[0.2222222222222222,\"#7201a8\"],[0.3333333333333333,\"#9c179e\"],[0.4444444444444444,\"#bd3786\"],[0.5555555555555556,\"#d8576b\"],[0.6666666666666666,\"#ed7953\"],[0.7777777777777778,\"#fb9f3a\"],[0.8888888888888888,\"#fdca26\"],[1.0,\"#f0f921\"]]}],\"contourcarpet\":[{\"type\":\"contourcarpet\",\"colorbar\":{\"outlinewidth\":0,\"ticks\":\"\"}}],\"contour\":[{\"type\":\"contour\",\"colorbar\":{\"outlinewidth\":0,\"ticks\":\"\"},\"colorscale\":[[0.0,\"#0d0887\"],[0.1111111111111111,\"#46039f\"],[0.2222222222222222,\"#7201a8\"],[0.3333333333333333,\"#9c179e\"],[0.4444444444444444,\"#bd3786\"],[0.5555555555555556,\"#d8576b\"],[0.6666666666666666,\"#ed7953\"],[0.7777777777777778,\"#fb9f3a\"],[0.8888888888888888,\"#fdca26\"],[1.0,\"#f0f921\"]]}],\"surface\":[{\"type\":\"surface\",\"colorbar\":{\"outlinewidth\":0,\"ticks\":\"\"},\"colorscale\":[[0.0,\"#0d0887\"],[0.1111111111111111,\"#46039f\"],[0.2222222222222222,\"#7201a8\"],[0.3333333333333333,\"#9c179e\"],[0.4444444444444444,\"#bd3786\"],[0.5555555555555556,\"#d8576b\"],[0.6666666666666666,\"#ed7953\"],[0.7777777777777778,\"#fb9f3a\"],[0.8888888888888888,\"#fdca26\"],[1.0,\"#f0f921\"]]}],\"mesh3d\":[{\"type\":\"mesh3d\",\"colorbar\":{\"outlinewidth\":0,\"ticks\":\"\"}}],\"scatter\":[{\"fillpattern\":{\"fillmode\":\"overlay\",\"size\":10,\"solidity\":0.2},\"type\":\"scatter\"}],\"parcoords\":[{\"type\":\"parcoords\",\"line\":{\"colorbar\":{\"outlinewidth\":0,\"ticks\":\"\"}}}],\"scatterpolargl\":[{\"type\":\"scatterpolargl\",\"marker\":{\"colorbar\":{\"outlinewidth\":0,\"ticks\":\"\"}}}],\"bar\":[{\"error_x\":{\"color\":\"#2a3f5f\"},\"error_y\":{\"color\":\"#2a3f5f\"},\"marker\":{\"line\":{\"color\":\"#E5ECF6\",\"width\":0.5},\"pattern\":{\"fillmode\":\"overlay\",\"size\":10,\"solidity\":0.2}},\"type\":\"bar\"}],\"scattergeo\":[{\"type\":\"scattergeo\",\"marker\":{\"colorbar\":{\"outlinewidth\":0,\"ticks\":\"\"}}}],\"scatterpolar\":[{\"type\":\"scatterpolar\",\"marker\":{\"colorbar\":{\"outlinewidth\":0,\"ticks\":\"\"}}}],\"histogram\":[{\"marker\":{\"pattern\":{\"fillmode\":\"overlay\",\"size\":10,\"solidity\":0.2}},\"type\":\"histogram\"}],\"scattergl\":[{\"type\":\"scattergl\",\"marker\":{\"colorbar\":{\"outlinewidth\":0,\"ticks\":\"\"}}}],\"scatter3d\":[{\"type\":\"scatter3d\",\"line\":{\"colorbar\":{\"outlinewidth\":0,\"ticks\":\"\"}},\"marker\":{\"colorbar\":{\"outlinewidth\":0,\"ticks\":\"\"}}}],\"scattermapbox\":[{\"type\":\"scattermapbox\",\"marker\":{\"colorbar\":{\"outlinewidth\":0,\"ticks\":\"\"}}}],\"scatterternary\":[{\"type\":\"scatterternary\",\"marker\":{\"colorbar\":{\"outlinewidth\":0,\"ticks\":\"\"}}}],\"scattercarpet\":[{\"type\":\"scattercarpet\",\"marker\":{\"colorbar\":{\"outlinewidth\":0,\"ticks\":\"\"}}}],\"carpet\":[{\"aaxis\":{\"endlinecolor\":\"#2a3f5f\",\"gridcolor\":\"white\",\"linecolor\":\"white\",\"minorgridcolor\":\"white\",\"startlinecolor\":\"#2a3f5f\"},\"baxis\":{\"endlinecolor\":\"#2a3f5f\",\"gridcolor\":\"white\",\"linecolor\":\"white\",\"minorgridcolor\":\"white\",\"startlinecolor\":\"#2a3f5f\"},\"type\":\"carpet\"}],\"table\":[{\"cells\":{\"fill\":{\"color\":\"#EBF0F8\"},\"line\":{\"color\":\"white\"}},\"header\":{\"fill\":{\"color\":\"#C8D4E3\"},\"line\":{\"color\":\"white\"}},\"type\":\"table\"}],\"barpolar\":[{\"marker\":{\"line\":{\"color\":\"#E5ECF6\",\"width\":0.5},\"pattern\":{\"fillmode\":\"overlay\",\"size\":10,\"solidity\":0.2}},\"type\":\"barpolar\"}],\"pie\":[{\"automargin\":true,\"type\":\"pie\"}]},\"layout\":{\"autotypenumbers\":\"strict\",\"colorway\":[\"#636efa\",\"#EF553B\",\"#00cc96\",\"#ab63fa\",\"#FFA15A\",\"#19d3f3\",\"#FF6692\",\"#B6E880\",\"#FF97FF\",\"#FECB52\"],\"font\":{\"color\":\"#2a3f5f\"},\"hovermode\":\"closest\",\"hoverlabel\":{\"align\":\"left\"},\"paper_bgcolor\":\"white\",\"plot_bgcolor\":\"#E5ECF6\",\"polar\":{\"bgcolor\":\"#E5ECF6\",\"angularaxis\":{\"gridcolor\":\"white\",\"linecolor\":\"white\",\"ticks\":\"\"},\"radialaxis\":{\"gridcolor\":\"white\",\"linecolor\":\"white\",\"ticks\":\"\"}},\"ternary\":{\"bgcolor\":\"#E5ECF6\",\"aaxis\":{\"gridcolor\":\"white\",\"linecolor\":\"white\",\"ticks\":\"\"},\"baxis\":{\"gridcolor\":\"white\",\"linecolor\":\"white\",\"ticks\":\"\"},\"caxis\":{\"gridcolor\":\"white\",\"linecolor\":\"white\",\"ticks\":\"\"}},\"coloraxis\":{\"colorbar\":{\"outlinewidth\":0,\"ticks\":\"\"}},\"colorscale\":{\"sequential\":[[0.0,\"#0d0887\"],[0.1111111111111111,\"#46039f\"],[0.2222222222222222,\"#7201a8\"],[0.3333333333333333,\"#9c179e\"],[0.4444444444444444,\"#bd3786\"],[0.5555555555555556,\"#d8576b\"],[0.6666666666666666,\"#ed7953\"],[0.7777777777777778,\"#fb9f3a\"],[0.8888888888888888,\"#fdca26\"],[1.0,\"#f0f921\"]],\"sequentialminus\":[[0.0,\"#0d0887\"],[0.1111111111111111,\"#46039f\"],[0.2222222222222222,\"#7201a8\"],[0.3333333333333333,\"#9c179e\"],[0.4444444444444444,\"#bd3786\"],[0.5555555555555556,\"#d8576b\"],[0.6666666666666666,\"#ed7953\"],[0.7777777777777778,\"#fb9f3a\"],[0.8888888888888888,\"#fdca26\"],[1.0,\"#f0f921\"]],\"diverging\":[[0,\"#8e0152\"],[0.1,\"#c51b7d\"],[0.2,\"#de77ae\"],[0.3,\"#f1b6da\"],[0.4,\"#fde0ef\"],[0.5,\"#f7f7f7\"],[0.6,\"#e6f5d0\"],[0.7,\"#b8e186\"],[0.8,\"#7fbc41\"],[0.9,\"#4d9221\"],[1,\"#276419\"]]},\"xaxis\":{\"gridcolor\":\"white\",\"linecolor\":\"white\",\"ticks\":\"\",\"title\":{\"standoff\":15},\"zerolinecolor\":\"white\",\"automargin\":true,\"zerolinewidth\":2},\"yaxis\":{\"gridcolor\":\"white\",\"linecolor\":\"white\",\"ticks\":\"\",\"title\":{\"standoff\":15},\"zerolinecolor\":\"white\",\"automargin\":true,\"zerolinewidth\":2},\"scene\":{\"xaxis\":{\"backgroundcolor\":\"#E5ECF6\",\"gridcolor\":\"white\",\"linecolor\":\"white\",\"showbackground\":true,\"ticks\":\"\",\"zerolinecolor\":\"white\",\"gridwidth\":2},\"yaxis\":{\"backgroundcolor\":\"#E5ECF6\",\"gridcolor\":\"white\",\"linecolor\":\"white\",\"showbackground\":true,\"ticks\":\"\",\"zerolinecolor\":\"white\",\"gridwidth\":2},\"zaxis\":{\"backgroundcolor\":\"#E5ECF6\",\"gridcolor\":\"white\",\"linecolor\":\"white\",\"showbackground\":true,\"ticks\":\"\",\"zerolinecolor\":\"white\",\"gridwidth\":2}},\"shapedefaults\":{\"line\":{\"color\":\"#2a3f5f\"}},\"annotationdefaults\":{\"arrowcolor\":\"#2a3f5f\",\"arrowhead\":0,\"arrowwidth\":1},\"geo\":{\"bgcolor\":\"white\",\"landcolor\":\"#E5ECF6\",\"subunitcolor\":\"white\",\"showland\":true,\"showlakes\":true,\"lakecolor\":\"white\"},\"title\":{\"x\":0.05},\"mapbox\":{\"style\":\"light\"}}},\"geo\":{\"domain\":{\"x\":[0.0,1.0],\"y\":[0.0,1.0]},\"center\":{}},\"legend\":{\"tracegroupgap\":0},\"margin\":{\"t\":60}},                        {\"responsive\": true}                    ).then(function(){\n",
       "                            \n",
       "var gd = document.getElementById('c8b7b310-836c-4556-aa0e-36e2dff5209b');\n",
       "var x = new MutationObserver(function (mutations, observer) {{\n",
       "        var display = window.getComputedStyle(gd).display;\n",
       "        if (!display || display === 'none') {{\n",
       "            console.log([gd, 'removed!']);\n",
       "            Plotly.purge(gd);\n",
       "            observer.disconnect();\n",
       "        }}\n",
       "}});\n",
       "\n",
       "// Listen for the removal of the full notebook cells\n",
       "var notebookContainer = gd.closest('#notebook-container');\n",
       "if (notebookContainer) {{\n",
       "    x.observe(notebookContainer, {childList: true});\n",
       "}}\n",
       "\n",
       "// Listen for the clearing of the current output cell\n",
       "var outputEl = gd.closest('.output');\n",
       "if (outputEl) {{\n",
       "    x.observe(outputEl, {childList: true});\n",
       "}}\n",
       "\n",
       "                        })                };                });            </script>        </div>"
      ]
     },
     "metadata": {},
     "output_type": "display_data"
    }
   ],
   "source": [
    "sampled_df = df.sample(n=1000, random_state=42)\n",
    "fig = px.scatter_geo(\n",
    "    sampled_df,\n",
    "    lat='latitude',\n",
    "    lon='longitude',\n",
    "    # width=600,  # Width of map\n",
    "    # height=600,  # Height of map\n",
    "    hover_data=[\"mag\"],\n",
    ")\n",
    "fig.show()"
   ]
  },
  {
   "cell_type": "code",
   "execution_count": 122,
   "id": "ffc00746-f5a0-4acc-ae3c-2aa1e2599a50",
   "metadata": {},
   "outputs": [],
   "source": [
    "# # Histogram of magnitudes\n",
    "# df['mag_log'] = np.log1p(df['mag'])\n",
    "# sns.histplot(df['mag'], bins=30, kde=True)\n",
    "# # plt.title('Magnitude Distribution')\n",
    "# plt.show()\n",
    "\n",
    "# # Boxplot to see any outliers in the magnitude data\n",
    "# sns.boxplot(x=df['mag'])\n",
    "# # plt.title('Magnitude Boxplot')\n",
    "# plt.show()"
   ]
  },
  {
   "cell_type": "code",
   "execution_count": 123,
   "id": "9587bd4d-003c-4774-8597-29419d634b2d",
   "metadata": {},
   "outputs": [],
   "source": [
    "# small_quakes = df[df['mag'] < 5]\n",
    "# large_quakes = df[df['mag'] >= 5]\n",
    "\n",
    "# # Downsample small quakes or oversample large quakes\n",
    "# balanced_df = pd.concat([\n",
    "#     small_quakes.sample(n=len(large_quakes), random_state=42),\n",
    "#     large_quakes\n",
    "# ])\n",
    "\n",
    "# # Shuffle the data\n",
    "# balanced_df = balanced_df.sample(frac=1, random_state=42)\n",
    "\n",
    "# # Visualize the balanced distribution\n",
    "# sns.histplot(balanced_df['mag'], kde=True, bins=30)\n",
    "# # plt.title('Balanced Distribution of Magnitudes')\n",
    "# plt.xlabel('Magnitude')\n",
    "# plt.ylabel('Frequency')\n",
    "# plt.show()"
   ]
  },
  {
   "cell_type": "code",
   "execution_count": 124,
   "id": "391c702c-713a-49c7-92b3-58e7c77e2e41",
   "metadata": {},
   "outputs": [
    {
     "name": "stdout",
     "output_type": "stream",
     "text": [
      "Number of earthquakes with magnitude > 5: 2432\n"
     ]
    }
   ],
   "source": [
    "# Count the number of earthquakes with magnitude > 5\n",
    "count_large_quakes = df[df['mag'] > 5].shape[0]\n",
    "\n",
    "print(f\"Number of earthquakes with magnitude > 5: {count_large_quakes}\")\n"
   ]
  },
  {
   "cell_type": "code",
   "execution_count": 125,
   "id": "396c3e58-b627-41f1-8413-a1a2c273213f",
   "metadata": {},
   "outputs": [
    {
     "name": "stdout",
     "output_type": "stream",
     "text": [
      "number of quakes with mag <= 5: 11655\n"
     ]
    }
   ],
   "source": [
    "#Count the no. of earthquakes with magnitude <= 5\n",
    "count_small_quakes = df[df['mag'] <= 5].shape[0]\n",
    "\n",
    "print(f\"number of quakes with mag <= 5: {count_small_quakes}\")"
   ]
  },
  {
   "cell_type": "code",
   "execution_count": 126,
   "id": "2856053a-9fb9-4fc8-af04-3b1fb7bc2677",
   "metadata": {},
   "outputs": [],
   "source": [
    "from scipy.stats import skew"
   ]
  },
  {
   "cell_type": "code",
   "execution_count": 127,
   "id": "3b54589f-c94b-4f80-bc81-1ab6112d5852",
   "metadata": {},
   "outputs": [],
   "source": [
    "# print(skew(df['mag']))\n",
    "# plt.figure()\n",
    "# sns.distplot(df['mag'])\n",
    "# plt.show()"
   ]
  },
  {
   "cell_type": "code",
   "execution_count": 128,
   "id": "fa478298-7815-47af-bd67-52baf256fdce",
   "metadata": {},
   "outputs": [],
   "source": [
    "# print(skew(small_quakes['mag']))\n",
    "# plt.figure()\n",
    "# sns.distplot(small_quakes['mag'])\n",
    "# plt.show()"
   ]
  },
  {
   "cell_type": "code",
   "execution_count": 129,
   "id": "665ffd6a-0063-4f62-88fb-707440b0c82e",
   "metadata": {},
   "outputs": [],
   "source": [
    "# print(skew(large_quakes['mag']))\n",
    "# plt.figure()\n",
    "# sns.distplot(large_quakes['mag'])\n",
    "# plt.show()"
   ]
  },
  {
   "cell_type": "code",
   "execution_count": 130,
   "id": "909e3c39-3bdd-4560-883a-2154eccbb7e4",
   "metadata": {},
   "outputs": [],
   "source": [
    "# selected_columns = ['latitude', 'longitude', 'depth', 'mag']\n",
    "# subset_df = df[selected_columns]\n",
    "\n",
    "# # Compute the correlation matrix\n",
    "# correlation_matrix = subset_df.corr()\n",
    "\n",
    "# # Plot the heatmap\n",
    "# plt.figure(figsize=(8, 6))  # Adjust figure size for clarity\n",
    "# sns.heatmap(correlation_matrix, annot=True, fmt=\".2f\", cmap=\"coolwarm\", cbar=True)\n",
    "# # plt.title(\"Correlation Heatmap: Latitude, Longitude, Depth, and Magnitude\", fontsize=16)\n",
    "# plt.xticks(rotation=45, ha='right')  # Rotate x-axis labels for clarity\n",
    "# plt.yticks(rotation=0)  # Keep y-axis labels horizontal\n",
    "# plt.tight_layout()  # Adjust layout to prevent clipping\n",
    "# plt.show()"
   ]
  },
  {
   "cell_type": "code",
   "execution_count": 131,
   "id": "586f3267-b673-4230-ada4-3b58de438ed6",
   "metadata": {},
   "outputs": [
    {
     "name": "stdout",
     "output_type": "stream",
     "text": [
      "0.7645020860379603\n"
     ]
    }
   ],
   "source": [
    "print(df['latitude'].corr(df['longitude']))"
   ]
  },
  {
   "cell_type": "code",
   "execution_count": 132,
   "id": "9ff6882a-f87e-44a9-b838-9af9b833ecd1",
   "metadata": {},
   "outputs": [
    {
     "name": "stdout",
     "output_type": "stream",
     "text": [
      "                              time  latitude  longitude  depth  mag magType  \\\n",
      "0 2018-11-27 14:34:20.900000+00:00     48.38     154.96  35.00  4.9      mb   \n",
      "1 2018-11-26 23:33:50.630000+00:00     36.07     139.78  48.82  4.8     mww   \n",
      "2 2018-11-26 13:04:02.250000+00:00     38.86     141.84  50.56  4.5      mb   \n",
      "3 2018-11-26 05:20:16.440000+00:00     50.07     156.14  66.34  4.6      mb   \n",
      "4 2018-11-25 09:19:05.010000+00:00     33.95     134.49  38.19  4.6      mb   \n",
      "\n",
      "   nst    gap   dmin   rms  ... horizontalError depthError magError magNst  \\\n",
      "0  NaN   92.0  5.044  0.63  ...             7.6        1.7    0.036  248.0   \n",
      "1  NaN  113.0  1.359  1.13  ...             6.0        6.1    0.071   19.0   \n",
      "2  NaN  145.0  1.286  0.84  ...             8.4        9.5    0.156   12.0   \n",
      "3  NaN  128.0  3.191  0.62  ...             9.7        7.8    0.045  151.0   \n",
      "4  NaN  104.0  0.558  0.61  ...             3.4       10.1    0.132   17.0   \n",
      "\n",
      "     status  locationSource  magSource  year  month quarter  \n",
      "0  reviewed              us         us  2018     11       4  \n",
      "1  reviewed              us         us  2018     11       4  \n",
      "2  reviewed              us         us  2018     11       4  \n",
      "3  reviewed              us         us  2018     11       4  \n",
      "4  reviewed              us         us  2018     11       4  \n",
      "\n",
      "[5 rows x 25 columns]\n"
     ]
    }
   ],
   "source": [
    "df['time'] = pd.to_datetime(df['time'])\n",
    "\n",
    "# Extract features\n",
    "df['year'] = df['time'].dt.year\n",
    "df['month'] = df['time'].dt.month\n",
    "df['quarter'] = df['time'].dt.quarter\n",
    "\n",
    "\n",
    "# Preview the dataset\n",
    "print(df.head())\n"
   ]
  },
  {
   "cell_type": "code",
   "execution_count": 133,
   "id": "1443b65a-2cd7-4ca0-8d5b-780bb127761d",
   "metadata": {},
   "outputs": [
    {
     "name": "stdout",
     "output_type": "stream",
     "text": [
      "                              time  latitude  longitude  depth  mag magType  \\\n",
      "0 2018-11-27 14:34:20.900000+00:00     48.38     154.96  35.00  4.9      mb   \n",
      "1 2018-11-26 23:33:50.630000+00:00     36.07     139.78  48.82  4.8     mww   \n",
      "2 2018-11-26 13:04:02.250000+00:00     38.86     141.84  50.56  4.5      mb   \n",
      "3 2018-11-26 05:20:16.440000+00:00     50.07     156.14  66.34  4.6      mb   \n",
      "4 2018-11-25 09:19:05.010000+00:00     33.95     134.49  38.19  4.6      mb   \n",
      "\n",
      "   nst    gap   dmin   rms  ... horizontalError depthError magError magNst  \\\n",
      "0  NaN   92.0  5.044  0.63  ...             7.6        1.7    0.036  248.0   \n",
      "1  NaN  113.0  1.359  1.13  ...             6.0        6.1    0.071   19.0   \n",
      "2  NaN  145.0  1.286  0.84  ...             8.4        9.5    0.156   12.0   \n",
      "3  NaN  128.0  3.191  0.62  ...             9.7        7.8    0.045  151.0   \n",
      "4  NaN  104.0  0.558  0.61  ...             3.4       10.1    0.132   17.0   \n",
      "\n",
      "     status  locationSource  magSource  year  month quarter  \n",
      "0  reviewed              us         us  2018     11       4  \n",
      "1  reviewed              us         us  2018     11       4  \n",
      "2  reviewed              us         us  2018     11       4  \n",
      "3  reviewed              us         us  2018     11       4  \n",
      "4  reviewed              us         us  2018     11       4  \n",
      "\n",
      "[5 rows x 25 columns]\n",
      "Index(['time', 'latitude', 'longitude', 'depth', 'mag', 'magType', 'nst',\n",
      "       'gap', 'dmin', 'rms', 'net', 'id', 'updated', 'place', 'type',\n",
      "       'horizontalError', 'depthError', 'magError', 'magNst', 'status',\n",
      "       'locationSource', 'magSource', 'year', 'month', 'quarter'],\n",
      "      dtype='object')\n"
     ]
    }
   ],
   "source": [
    "print(df.head())\n",
    "# Drop the original 'time' column\n",
    "# df = df.drop(columns=['time'])\n",
    "\n",
    "print(df.columns)"
   ]
  },
  {
   "cell_type": "code",
   "execution_count": 134,
   "id": "b57e7892-9630-4cd3-ae09-9abee5b81298",
   "metadata": {},
   "outputs": [
    {
     "name": "stdout",
     "output_type": "stream",
     "text": [
      "Missing values per column:\n",
      "time                   0\n",
      "latitude               0\n",
      "longitude              0\n",
      "depth                  0\n",
      "mag                    0\n",
      "magType                0\n",
      "nst                 3606\n",
      "gap                  781\n",
      "dmin               10482\n",
      "rms                   78\n",
      "net                    0\n",
      "id                     0\n",
      "updated                0\n",
      "place                  0\n",
      "type                   0\n",
      "horizontalError    11290\n",
      "depthError          5050\n",
      "magError           10659\n",
      "magNst              3044\n",
      "status                 0\n",
      "locationSource         0\n",
      "magSource              0\n",
      "year                   0\n",
      "month                  0\n",
      "quarter                0\n",
      "dtype: int64\n"
     ]
    }
   ],
   "source": [
    "# Check for missing values\n",
    "missing_values = df.isna().sum()\n",
    "\n",
    "# Display missing values\n",
    "print(f\"Missing values per column:\\n{missing_values}\")\n"
   ]
  },
  {
   "cell_type": "code",
   "execution_count": 135,
   "id": "fd8dd150-b240-4a35-98b5-f8921a7fd563",
   "metadata": {},
   "outputs": [
    {
     "name": "stdout",
     "output_type": "stream",
     "text": [
      "time         0\n",
      "latitude     0\n",
      "longitude    0\n",
      "depth        0\n",
      "mag          0\n",
      "magType      0\n",
      "gap          0\n",
      "rms          0\n",
      "year         0\n",
      "month        0\n",
      "quarter      0\n",
      "dtype: int64\n"
     ]
    }
   ],
   "source": [
    "# Drop unnecessary columns\n",
    "df = df.drop(columns=['nst', 'dmin', 'horizontalError', 'depthError', 'magError', 'magNst', 'id', 'status', 'place', 'type', 'net', 'updated', 'locationSource', 'magSource'])\n",
    "\n",
    "# Fill missing values for 'gap' and 'rms' with their respective mean or median\n",
    "df['gap'] = df['gap'].fillna(df['gap'].mean())  # Or use median if preferred\n",
    "df['rms'] = df['rms'].fillna(df['rms'].mean())  # Or use median if preferred\n",
    "\n",
    "# Fill missing values in 'magType' with the most frequent category (mode)\n",
    "df['magType'] = df['magType'].fillna(df['magType'].mode()[0])\n",
    "\n",
    "# Ensure no missing values are left\n",
    "print(df.isnull().sum())"
   ]
  },
  {
   "cell_type": "code",
   "execution_count": 136,
   "id": "10a8673c-192b-486f-9752-87dd3537aec8",
   "metadata": {},
   "outputs": [
    {
     "name": "stdout",
     "output_type": "stream",
     "text": [
      "time         datetime64[ns, UTC]\n",
      "latitude                 float64\n",
      "longitude                float64\n",
      "depth                    float64\n",
      "mag                      float64\n",
      "magType                   object\n",
      "gap                      float64\n",
      "rms                      float64\n",
      "year                       int32\n",
      "month                      int32\n",
      "quarter                    int32\n",
      "dtype: object\n"
     ]
    }
   ],
   "source": [
    "# printing the datatypes of each column \n",
    "print(df.dtypes)"
   ]
  },
  {
   "cell_type": "code",
   "execution_count": 137,
   "id": "48819f08-cabf-4fd4-9057-becdefba3f39",
   "metadata": {},
   "outputs": [],
   "source": [
    "# selected_columns = ['latitude', 'longitude', 'depth', 'mag', 'month']\n",
    "# subset_df = df[selected_columns]\n",
    "\n",
    "# # Compute the correlation matrix\n",
    "# correlation_matrix = subset_df.corr()\n",
    "\n",
    "# # Plot the heatmap\n",
    "# plt.figure(figsize=(8, 6))  # Adjust figure size for clarity\n",
    "# sns.heatmap(correlation_matrix, annot=True, fmt=\".2f\", cmap=\"coolwarm\", cbar=True)\n",
    "# # plt.title(\"Correlation Heatmap: Latitude, Longitude, Depth, and Magnitude\", fontsize=16)\n",
    "# plt.xticks(rotation=45, ha='right')  # Rotate x-axis labels for clarity\n",
    "# plt.yticks(rotation=0)  # Keep y-axis labels horizontal\n",
    "# plt.tight_layout()  # Adjust layout to prevent clipping\n",
    "# plt.show()"
   ]
  },
  {
   "cell_type": "code",
   "execution_count": 138,
   "id": "1ccecfe9-ff72-41f6-979e-f4620d0e27f8",
   "metadata": {},
   "outputs": [
    {
     "name": "stdout",
     "output_type": "stream",
     "text": [
      "Distinct values in 'magType' column:\n",
      "['mb' 'mww' 'mwr' 'mwb' 'mwc' 'ms' 'mw' 'm']\n"
     ]
    }
   ],
   "source": [
    "# Get distinct values in the 'magType' column\n",
    "unique_mag_types = df['magType'].unique()\n",
    "\n",
    "# Print the distinct values\n",
    "print(\"Distinct values in 'magType' column:\")\n",
    "print(unique_mag_types)"
   ]
  },
  {
   "cell_type": "code",
   "execution_count": 139,
   "id": "aa4e7d08-678d-4ec9-94d9-32317e6e34df",
   "metadata": {},
   "outputs": [
    {
     "name": "stdout",
     "output_type": "stream",
     "text": [
      "Label Mapping: {'m': 0, 'mb': 1, 'ms': 2, 'mw': 3, 'mwb': 4, 'mwc': 5, 'mwr': 6, 'mww': 7}\n",
      "  magType  magType_encoded\n",
      "0      mb                1\n",
      "1     mww                7\n",
      "2      mb                1\n",
      "3      mb                1\n",
      "4      mb                1\n"
     ]
    }
   ],
   "source": [
    "from sklearn.preprocessing import LabelEncoder\n",
    "\n",
    "# Initialize the LabelEncoder\n",
    "label_encoder = LabelEncoder()\n",
    "\n",
    "# Apply label encoding to 'magType'\n",
    "df['magType_encoded'] = label_encoder.fit_transform(df['magType'])\n",
    "\n",
    "# Show mapping of labels to original values\n",
    "label_mapping = dict(zip(label_encoder.classes_, range(len(label_encoder.classes_))))\n",
    "print(\"Label Mapping:\", label_mapping)\n",
    "\n",
    "# Display the updated DataFrame\n",
    "print(df[['magType', 'magType_encoded']].head())\n"
   ]
  },
  {
   "cell_type": "code",
   "execution_count": 140,
   "id": "0e434947-3f12-44c6-ab8a-2e181a9e80e9",
   "metadata": {},
   "outputs": [
    {
     "name": "stdout",
     "output_type": "stream",
     "text": [
      "time               datetime64[ns, UTC]\n",
      "latitude                       float64\n",
      "longitude                      float64\n",
      "depth                          float64\n",
      "mag                            float64\n",
      "magType                         object\n",
      "gap                            float64\n",
      "rms                            float64\n",
      "year                             int32\n",
      "month                            int32\n",
      "quarter                          int32\n",
      "magType_encoded                  int32\n",
      "dtype: object\n"
     ]
    }
   ],
   "source": [
    "# printing the datatypes of each column \n",
    "print(df.dtypes)\n"
   ]
  },
  {
   "cell_type": "code",
   "execution_count": 141,
   "id": "569d044a-210e-4548-a791-63c6339694b5",
   "metadata": {},
   "outputs": [],
   "source": [
    "# Drop a single column\n",
    "df = df.drop('magType', axis=1)"
   ]
  },
  {
   "cell_type": "code",
   "execution_count": 142,
   "id": "e8ffd928-0ef8-4ddb-81eb-625bd0faf25a",
   "metadata": {},
   "outputs": [
    {
     "name": "stdout",
     "output_type": "stream",
     "text": [
      "<bound method NDFrame.head of                                   time  latitude  longitude  depth  mag  \\\n",
      "0     2018-11-27 14:34:20.900000+00:00     48.38     154.96  35.00  4.9   \n",
      "1     2018-11-26 23:33:50.630000+00:00     36.07     139.78  48.82  4.8   \n",
      "2     2018-11-26 13:04:02.250000+00:00     38.86     141.84  50.56  4.5   \n",
      "3     2018-11-26 05:20:16.440000+00:00     50.07     156.14  66.34  4.6   \n",
      "4     2018-11-25 09:19:05.010000+00:00     33.95     134.49  38.19  4.6   \n",
      "...                                ...       ...        ...    ...  ...   \n",
      "14087 2001-01-04 04:18:21.430000+00:00     36.98     138.63  21.40  5.3   \n",
      "14088 2001-01-03 14:47:49.540000+00:00     43.93     147.81  33.00  5.9   \n",
      "14089 2001-01-03 09:32:54.710000+00:00     45.30     149.94  33.00  4.6   \n",
      "14090 2001-01-02 20:29:49.670000+00:00     32.24     141.51  33.00  4.9   \n",
      "14091 2001-01-02 10:53:23.280000+00:00     37.22     138.43  33.00  4.9   \n",
      "\n",
      "             gap   rms  year  month  quarter  magType_encoded  \n",
      "0       92.00000  0.63  2018     11        4                1  \n",
      "1      113.00000  1.13  2018     11        4                7  \n",
      "2      145.00000  0.84  2018     11        4                1  \n",
      "3      128.00000  0.62  2018     11        4                1  \n",
      "4      104.00000  0.61  2018     11        4                1  \n",
      "...          ...   ...   ...    ...      ...              ...  \n",
      "14087  104.29513  0.78  2001      1        1                5  \n",
      "14088  104.29513  0.82  2001      1        1                5  \n",
      "14089  104.29513  0.82  2001      1        1                1  \n",
      "14090  104.29513  0.96  2001      1        1                1  \n",
      "14091  104.29513  0.93  2001      1        1                1  \n",
      "\n",
      "[14087 rows x 11 columns]>\n"
     ]
    }
   ],
   "source": [
    "print(df.head)"
   ]
  },
  {
   "cell_type": "code",
   "execution_count": 143,
   "id": "d21db8e3-b679-4675-a229-21b096491235",
   "metadata": {},
   "outputs": [
    {
     "name": "stdout",
     "output_type": "stream",
     "text": [
      "<bound method DataFrame.info of                                   time  latitude  longitude  depth  mag  \\\n",
      "0     2018-11-27 14:34:20.900000+00:00     48.38     154.96  35.00  4.9   \n",
      "1     2018-11-26 23:33:50.630000+00:00     36.07     139.78  48.82  4.8   \n",
      "2     2018-11-26 13:04:02.250000+00:00     38.86     141.84  50.56  4.5   \n",
      "3     2018-11-26 05:20:16.440000+00:00     50.07     156.14  66.34  4.6   \n",
      "4     2018-11-25 09:19:05.010000+00:00     33.95     134.49  38.19  4.6   \n",
      "...                                ...       ...        ...    ...  ...   \n",
      "14087 2001-01-04 04:18:21.430000+00:00     36.98     138.63  21.40  5.3   \n",
      "14088 2001-01-03 14:47:49.540000+00:00     43.93     147.81  33.00  5.9   \n",
      "14089 2001-01-03 09:32:54.710000+00:00     45.30     149.94  33.00  4.6   \n",
      "14090 2001-01-02 20:29:49.670000+00:00     32.24     141.51  33.00  4.9   \n",
      "14091 2001-01-02 10:53:23.280000+00:00     37.22     138.43  33.00  4.9   \n",
      "\n",
      "             gap   rms  year  month  quarter  magType_encoded  \n",
      "0       92.00000  0.63  2018     11        4                1  \n",
      "1      113.00000  1.13  2018     11        4                7  \n",
      "2      145.00000  0.84  2018     11        4                1  \n",
      "3      128.00000  0.62  2018     11        4                1  \n",
      "4      104.00000  0.61  2018     11        4                1  \n",
      "...          ...   ...   ...    ...      ...              ...  \n",
      "14087  104.29513  0.78  2001      1        1                5  \n",
      "14088  104.29513  0.82  2001      1        1                5  \n",
      "14089  104.29513  0.82  2001      1        1                1  \n",
      "14090  104.29513  0.96  2001      1        1                1  \n",
      "14091  104.29513  0.93  2001      1        1                1  \n",
      "\n",
      "[14087 rows x 11 columns]>\n"
     ]
    }
   ],
   "source": [
    "print(df.info)"
   ]
  },
  {
   "cell_type": "code",
   "execution_count": 144,
   "id": "140b86b0-9419-4ff1-8ea2-ac86d0d3b984",
   "metadata": {},
   "outputs": [
    {
     "name": "stdout",
     "output_type": "stream",
     "text": [
      "time               datetime64[ns, UTC]\n",
      "latitude                       float64\n",
      "longitude                      float64\n",
      "depth                          float64\n",
      "mag                            float64\n",
      "gap                            float64\n",
      "rms                            float64\n",
      "year                             int32\n",
      "month                            int32\n",
      "quarter                          int32\n",
      "magType_encoded                  int32\n",
      "dtype: object\n"
     ]
    }
   ],
   "source": [
    "print(df.dtypes)"
   ]
  },
  {
   "cell_type": "code",
   "execution_count": 145,
   "id": "ee9873bc-cf09-4ed0-b58f-8cbb1aaa894e",
   "metadata": {},
   "outputs": [
    {
     "name": "stdout",
     "output_type": "stream",
     "text": [
      "Training set shape: (11269, 9)\n",
      "Testing set shape: (2818, 9)\n"
     ]
    },
    {
     "data": {
      "text/html": [
       "<div>\n",
       "<style scoped>\n",
       "    .dataframe tbody tr th:only-of-type {\n",
       "        vertical-align: middle;\n",
       "    }\n",
       "\n",
       "    .dataframe tbody tr th {\n",
       "        vertical-align: top;\n",
       "    }\n",
       "\n",
       "    .dataframe thead th {\n",
       "        text-align: right;\n",
       "    }\n",
       "</style>\n",
       "<table border=\"1\" class=\"dataframe\">\n",
       "  <thead>\n",
       "    <tr style=\"text-align: right;\">\n",
       "      <th></th>\n",
       "      <th>latitude</th>\n",
       "      <th>longitude</th>\n",
       "      <th>depth</th>\n",
       "      <th>mag</th>\n",
       "      <th>gap</th>\n",
       "      <th>rms</th>\n",
       "      <th>year</th>\n",
       "      <th>month</th>\n",
       "      <th>quarter</th>\n",
       "      <th>magType_encoded</th>\n",
       "    </tr>\n",
       "  </thead>\n",
       "  <tbody>\n",
       "    <tr>\n",
       "      <th>0</th>\n",
       "      <td>48.38</td>\n",
       "      <td>154.96</td>\n",
       "      <td>35.00</td>\n",
       "      <td>4.9</td>\n",
       "      <td>92.0</td>\n",
       "      <td>0.63</td>\n",
       "      <td>2018</td>\n",
       "      <td>11</td>\n",
       "      <td>4</td>\n",
       "      <td>1</td>\n",
       "    </tr>\n",
       "    <tr>\n",
       "      <th>1</th>\n",
       "      <td>36.07</td>\n",
       "      <td>139.78</td>\n",
       "      <td>48.82</td>\n",
       "      <td>4.8</td>\n",
       "      <td>113.0</td>\n",
       "      <td>1.13</td>\n",
       "      <td>2018</td>\n",
       "      <td>11</td>\n",
       "      <td>4</td>\n",
       "      <td>7</td>\n",
       "    </tr>\n",
       "    <tr>\n",
       "      <th>2</th>\n",
       "      <td>38.86</td>\n",
       "      <td>141.84</td>\n",
       "      <td>50.56</td>\n",
       "      <td>4.5</td>\n",
       "      <td>145.0</td>\n",
       "      <td>0.84</td>\n",
       "      <td>2018</td>\n",
       "      <td>11</td>\n",
       "      <td>4</td>\n",
       "      <td>1</td>\n",
       "    </tr>\n",
       "    <tr>\n",
       "      <th>3</th>\n",
       "      <td>50.07</td>\n",
       "      <td>156.14</td>\n",
       "      <td>66.34</td>\n",
       "      <td>4.6</td>\n",
       "      <td>128.0</td>\n",
       "      <td>0.62</td>\n",
       "      <td>2018</td>\n",
       "      <td>11</td>\n",
       "      <td>4</td>\n",
       "      <td>1</td>\n",
       "    </tr>\n",
       "    <tr>\n",
       "      <th>4</th>\n",
       "      <td>33.95</td>\n",
       "      <td>134.49</td>\n",
       "      <td>38.19</td>\n",
       "      <td>4.6</td>\n",
       "      <td>104.0</td>\n",
       "      <td>0.61</td>\n",
       "      <td>2018</td>\n",
       "      <td>11</td>\n",
       "      <td>4</td>\n",
       "      <td>1</td>\n",
       "    </tr>\n",
       "  </tbody>\n",
       "</table>\n",
       "</div>"
      ],
      "text/plain": [
       "   latitude  longitude  depth  mag    gap   rms  year  month  quarter  \\\n",
       "0     48.38     154.96  35.00  4.9   92.0  0.63  2018     11        4   \n",
       "1     36.07     139.78  48.82  4.8  113.0  1.13  2018     11        4   \n",
       "2     38.86     141.84  50.56  4.5  145.0  0.84  2018     11        4   \n",
       "3     50.07     156.14  66.34  4.6  128.0  0.62  2018     11        4   \n",
       "4     33.95     134.49  38.19  4.6  104.0  0.61  2018     11        4   \n",
       "\n",
       "   magType_encoded  \n",
       "0                1  \n",
       "1                7  \n",
       "2                1  \n",
       "3                1  \n",
       "4                1  "
      ]
     },
     "execution_count": 145,
     "metadata": {},
     "output_type": "execute_result"
    }
   ],
   "source": [
    "# Separate features and target\n",
    "df = df.drop(columns=['time'])\n",
    "X = df.drop(columns=['mag'])  # Features\n",
    "y = df['mag']                 # Target (magnitude)\n",
    "\n",
    "\n",
    "# Train-test split\n",
    "X_train, X_test, y_train, y_test = train_test_split(X, y, test_size=0.2)\n",
    "\n",
    "print(\"Training set shape:\", X_train.shape)\n",
    "print(\"Testing set shape:\", X_test.shape)\n",
    "df.head()\n"
   ]
  },
  {
   "cell_type": "code",
   "execution_count": 160,
   "id": "2f3be408-25b9-4f6e-aae5-d59e4a8893fb",
   "metadata": {},
   "outputs": [
    {
     "name": "stdout",
     "output_type": "stream",
     "text": [
      "Random Forest model trained successfully\n"
     ]
    }
   ],
   "source": [
    "# Initialize the Random Forest Regressor\n",
    "rf_model = RandomForestRegressor(n_estimators=10, random_state=42)\n",
    "\n",
    "# Fit the model on training data\n",
    "rf_model.fit(X_train, y_train)\n",
    "\n",
    "print(\"Random Forest model trained successfully\")\n"
   ]
  },
  {
   "cell_type": "code",
   "execution_count": 161,
   "id": "b95daf21-a2b3-4edc-b5c6-9367b80bddf8",
   "metadata": {},
   "outputs": [
    {
     "name": "stdout",
     "output_type": "stream",
     "text": [
      "Predictions completed!\n"
     ]
    }
   ],
   "source": [
    "# Predict on the test set\n",
    "y_pred = rf_model.predict(X_test)\n",
    "\n",
    "print(\"Predictions completed!\")"
   ]
  },
  {
   "cell_type": "code",
   "execution_count": 162,
   "id": "2bdadd05-71a8-40db-8eb2-33282614e042",
   "metadata": {},
   "outputs": [
    {
     "name": "stdout",
     "output_type": "stream",
     "text": [
      "Mean Squared Error (MSE): 0.052681405251951745\n",
      "R² Score: 0.6122969473499087\n"
     ]
    }
   ],
   "source": [
    "# Evaluate the model\n",
    "mse = mean_squared_error(y_test, y_pred)\n",
    "r2 = r2_score(y_test, y_pred)\n",
    "\n",
    "print(\"Mean Squared Error (MSE):\", mse)\n",
    "print(\"R² Score:\", r2)"
   ]
  },
  {
   "cell_type": "code",
   "execution_count": null,
   "id": "049e1a13-1b5d-46e1-ba61-cf73739c001c",
   "metadata": {},
   "outputs": [],
   "source": []
  }
 ],
 "metadata": {
  "kernelspec": {
   "display_name": "Python 3 (ipykernel)",
   "language": "python",
   "name": "python3"
  },
  "language_info": {
   "codemirror_mode": {
    "name": "ipython",
    "version": 3
   },
   "file_extension": ".py",
   "mimetype": "text/x-python",
   "name": "python",
   "nbconvert_exporter": "python",
   "pygments_lexer": "ipython3",
   "version": "3.12.7"
  }
 },
 "nbformat": 4,
 "nbformat_minor": 5
}
